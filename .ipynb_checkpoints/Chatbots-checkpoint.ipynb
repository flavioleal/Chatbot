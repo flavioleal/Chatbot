{
 "cells": [
  {
   "cell_type": "markdown",
   "metadata": {},
   "source": [
    "# Deep Learning Question & Answer Bot Project\n",
    "\n",
    "## Project Overview\n",
    "In this project, we implement a chatbot that can answer questions based on a \"story\" given to the bot.\n",
    "\n",
    "We are using a subset of the BaBi dataset released by Facebook research. https://research.fb.com/downloads/babi.\n",
    "There are 10,000 data in the training set and 1,000 data in the testing set. Each data in the training/testing set consists of 3 components:\n",
    "> - Story - consists of single or multiple sentences\n",
    "> - Question - single sentence query related to the story\n",
    "> - Answer - \"yes\" or \"no\" answer to the question\n",
    "\n",
    "The model for our chatbot is a RNN network with attention mechanism. It includes the following layers: Embedding, LSTM, Dropout, Dense and Activation. The design of the model pretty much follows the idea in the paper \"End-to-End Memory Networks\": https://arxiv.org/pdf/1503.08895.pdf. \n",
    "\n",
    "Our model achieved pretty high accuary on training/testing set and performs really good on run time generated data."
   ]
  },
  {
   "cell_type": "markdown",
   "metadata": {},
   "source": [
    "## Data Preprocessing"
   ]
  },
  {
   "cell_type": "code",
   "execution_count": null,
   "metadata": {},
   "outputs": [],
   "source": [
    "import pickle\n",
    "import numpy as np"
   ]
  },
  {
   "cell_type": "code",
   "execution_count": 2,
   "metadata": {},
   "outputs": [],
   "source": [
    "# Read as binary\n",
    "with open('train_qa.txt', 'rb') as f:\n",
    "    train_data = pickle.load(f)"
   ]
  },
  {
   "cell_type": "code",
   "execution_count": null,
   "metadata": {},
   "outputs": [],
   "source": [
    "train_data"
   ]
  },
  {
   "cell_type": "code",
   "execution_count": 3,
   "metadata": {},
   "outputs": [],
   "source": [
    "# Read as binary\n",
    "with open('test_qa.txt', 'rb') as f:\n",
    "    test_data = pickle.load(f)"
   ]
  },
  {
   "cell_type": "code",
   "execution_count": 4,
   "metadata": {},
   "outputs": [
    {
     "name": "stdout",
     "output_type": "stream",
     "text": [
      "<class 'list'>\n",
      "<class 'list'>\n"
     ]
    }
   ],
   "source": [
    "print(type(train_data))\n",
    "print(type(test_data))"
   ]
  },
  {
   "cell_type": "code",
   "execution_count": 5,
   "metadata": {},
   "outputs": [
    {
     "name": "stdout",
     "output_type": "stream",
     "text": [
      "Length of the train data:  10000\n",
      "Length of the test data:  1000\n"
     ]
    }
   ],
   "source": [
    "print(\"Length of the train data: \", len(train_data))\n",
    "print(\"Length of the test data: \", len(test_data))"
   ]
  },
  {
   "cell_type": "code",
   "execution_count": 6,
   "metadata": {},
   "outputs": [
    {
     "data": {
      "text/plain": [
       "[(['Mary',\n",
       "   'moved',\n",
       "   'to',\n",
       "   'the',\n",
       "   'bathroom',\n",
       "   '.',\n",
       "   'Sandra',\n",
       "   'journeyed',\n",
       "   'to',\n",
       "   'the',\n",
       "   'bedroom',\n",
       "   '.'],\n",
       "  ['Is', 'Sandra', 'in', 'the', 'hallway', '?'],\n",
       "  'no'),\n",
       " (['Mary',\n",
       "   'moved',\n",
       "   'to',\n",
       "   'the',\n",
       "   'bathroom',\n",
       "   '.',\n",
       "   'Sandra',\n",
       "   'journeyed',\n",
       "   'to',\n",
       "   'the',\n",
       "   'bedroom',\n",
       "   '.',\n",
       "   'Mary',\n",
       "   'went',\n",
       "   'back',\n",
       "   'to',\n",
       "   'the',\n",
       "   'bedroom',\n",
       "   '.',\n",
       "   'Daniel',\n",
       "   'went',\n",
       "   'back',\n",
       "   'to',\n",
       "   'the',\n",
       "   'hallway',\n",
       "   '.'],\n",
       "  ['Is', 'Daniel', 'in', 'the', 'bathroom', '?'],\n",
       "  'no')]"
      ]
     },
     "execution_count": 6,
     "metadata": {},
     "output_type": "execute_result"
    }
   ],
   "source": [
    "train_data[:2]"
   ]
  },
  {
   "cell_type": "code",
   "execution_count": 7,
   "metadata": {},
   "outputs": [
    {
     "data": {
      "text/plain": [
       "(['Mary',\n",
       "  'moved',\n",
       "  'to',\n",
       "  'the',\n",
       "  'bathroom',\n",
       "  '.',\n",
       "  'Sandra',\n",
       "  'journeyed',\n",
       "  'to',\n",
       "  'the',\n",
       "  'bedroom',\n",
       "  '.'],\n",
       " ['Is', 'Sandra', 'in', 'the', 'hallway', '?'],\n",
       " 'no')"
      ]
     },
     "execution_count": 7,
     "metadata": {},
     "output_type": "execute_result"
    }
   ],
   "source": [
    "# Train_data is a list of tuples consist of 3 parts: story, question, answer.\n",
    "train_data[0]"
   ]
  },
  {
   "cell_type": "code",
   "execution_count": 8,
   "metadata": {},
   "outputs": [
    {
     "data": {
      "text/plain": [
       "'Mary moved to the bathroom . Sandra journeyed to the bedroom .'"
      ]
     },
     "execution_count": 8,
     "metadata": {},
     "output_type": "execute_result"
    }
   ],
   "source": [
    "' '.join(train_data[0][0])"
   ]
  },
  {
   "cell_type": "code",
   "execution_count": 9,
   "metadata": {},
   "outputs": [
    {
     "data": {
      "text/plain": [
       "'Is Sandra in the hallway ?'"
      ]
     },
     "execution_count": 9,
     "metadata": {},
     "output_type": "execute_result"
    }
   ],
   "source": [
    "' '.join(train_data[0][1])"
   ]
  },
  {
   "cell_type": "code",
   "execution_count": 10,
   "metadata": {},
   "outputs": [
    {
     "data": {
      "text/plain": [
       "'no'"
      ]
     },
     "execution_count": 10,
     "metadata": {},
     "output_type": "execute_result"
    }
   ],
   "source": [
    "train_data[0][2]"
   ]
  },
  {
   "cell_type": "code",
   "execution_count": 11,
   "metadata": {},
   "outputs": [],
   "source": [
    "all_data = test_data + train_data"
   ]
  },
  {
   "cell_type": "code",
   "execution_count": 12,
   "metadata": {},
   "outputs": [
    {
     "data": {
      "text/plain": [
       "11000"
      ]
     },
     "execution_count": 12,
     "metadata": {},
     "output_type": "execute_result"
    }
   ],
   "source": [
    "len(all_data)"
   ]
  },
  {
   "cell_type": "code",
   "execution_count": 13,
   "metadata": {},
   "outputs": [
    {
     "data": {
      "text/plain": [
       "{'.',\n",
       " 'Mary',\n",
       " 'Sandra',\n",
       " 'bathroom',\n",
       " 'bedroom',\n",
       " 'journeyed',\n",
       " 'moved',\n",
       " 'the',\n",
       " 'to'}"
      ]
     },
     "execution_count": 13,
     "metadata": {},
     "output_type": "execute_result"
    }
   ],
   "source": [
    "set(train_data[0][0])"
   ]
  },
  {
   "cell_type": "code",
   "execution_count": 14,
   "metadata": {},
   "outputs": [],
   "source": [
    "# Build vocabulary from all stories and questions\n",
    "vocab = set()\n",
    "\n",
    "for story, question, answer in all_data:\n",
    "    vocab = vocab.union(set(story))\n",
    "    vocab = vocab.union(set(question))"
   ]
  },
  {
   "cell_type": "code",
   "execution_count": 15,
   "metadata": {},
   "outputs": [],
   "source": [
    "vocab.add('no')"
   ]
  },
  {
   "cell_type": "code",
   "execution_count": 16,
   "metadata": {},
   "outputs": [],
   "source": [
    "vocab.add('yes')"
   ]
  },
  {
   "cell_type": "code",
   "execution_count": 17,
   "metadata": {},
   "outputs": [
    {
     "data": {
      "text/plain": [
       "{'.',\n",
       " '?',\n",
       " 'Daniel',\n",
       " 'Is',\n",
       " 'John',\n",
       " 'Mary',\n",
       " 'Sandra',\n",
       " 'apple',\n",
       " 'back',\n",
       " 'bathroom',\n",
       " 'bedroom',\n",
       " 'discarded',\n",
       " 'down',\n",
       " 'dropped',\n",
       " 'football',\n",
       " 'garden',\n",
       " 'got',\n",
       " 'grabbed',\n",
       " 'hallway',\n",
       " 'in',\n",
       " 'journeyed',\n",
       " 'kitchen',\n",
       " 'left',\n",
       " 'milk',\n",
       " 'moved',\n",
       " 'no',\n",
       " 'office',\n",
       " 'picked',\n",
       " 'put',\n",
       " 'the',\n",
       " 'there',\n",
       " 'to',\n",
       " 'took',\n",
       " 'travelled',\n",
       " 'up',\n",
       " 'went',\n",
       " 'yes'}"
      ]
     },
     "execution_count": 17,
     "metadata": {},
     "output_type": "execute_result"
    }
   ],
   "source": [
    "vocab"
   ]
  },
  {
   "cell_type": "code",
   "execution_count": 18,
   "metadata": {},
   "outputs": [
    {
     "name": "stdout",
     "output_type": "stream",
     "text": [
      "Actual length of the vocabulary:  37\n"
     ]
    }
   ],
   "source": [
    "# Add one to length of vocabulary: Keras embedding layer requires this.\n",
    "vocab_len = len(vocab) + 1\n",
    "print(\"Actual length of the vocabulary: \", vocab_len-1)"
   ]
  },
  {
   "cell_type": "code",
   "execution_count": 19,
   "metadata": {},
   "outputs": [],
   "source": [
    "# Length of all the stories\n",
    "all_story_len = [len(data[0]) for data in all_data]"
   ]
  },
  {
   "cell_type": "code",
   "execution_count": 20,
   "metadata": {},
   "outputs": [],
   "source": [
    "# Get maximum of the stories\n",
    "max_story_len = max(all_story_len)"
   ]
  },
  {
   "cell_type": "code",
   "execution_count": 21,
   "metadata": {},
   "outputs": [],
   "source": [
    "max_question_len = max([len(data[1]) for data in all_data])"
   ]
  },
  {
   "cell_type": "code",
   "execution_count": 22,
   "metadata": {},
   "outputs": [
    {
     "name": "stdout",
     "output_type": "stream",
     "text": [
      "Maximum length of the stories:  156\n",
      "Maximum length of the question:  6\n"
     ]
    }
   ],
   "source": [
    "print(\"Maximum length of the stories: \", max_story_len)\n",
    "print(\"Maximum length of the question: \", max_question_len)"
   ]
  },
  {
   "cell_type": "code",
   "execution_count": 23,
   "metadata": {},
   "outputs": [
    {
     "name": "stderr",
     "output_type": "stream",
     "text": [
      "Using TensorFlow backend.\n"
     ]
    }
   ],
   "source": [
    "from keras.preprocessing.sequence import pad_sequences\n",
    "from keras.preprocessing.text import Tokenizer"
   ]
  },
  {
   "cell_type": "code",
   "execution_count": 24,
   "metadata": {},
   "outputs": [],
   "source": [
    "tokenizer = Tokenizer(filters=[])\n",
    "tokenizer.fit_on_texts(vocab)"
   ]
  },
  {
   "cell_type": "code",
   "execution_count": 25,
   "metadata": {},
   "outputs": [
    {
     "data": {
      "text/plain": [
       "{'milk': 1,\n",
       " 'down': 2,\n",
       " 'discarded': 3,\n",
       " '?': 4,\n",
       " 'is': 5,\n",
       " 'bedroom': 6,\n",
       " 'took': 7,\n",
       " 'bathroom': 8,\n",
       " 'put': 9,\n",
       " 'there': 10,\n",
       " 'grabbed': 11,\n",
       " 'left': 12,\n",
       " 'apple': 13,\n",
       " 'up': 14,\n",
       " 'the': 15,\n",
       " 'daniel': 16,\n",
       " 'journeyed': 17,\n",
       " '.': 18,\n",
       " 'to': 19,\n",
       " 'football': 20,\n",
       " 'office': 21,\n",
       " 'picked': 22,\n",
       " 'went': 23,\n",
       " 'back': 24,\n",
       " 'garden': 25,\n",
       " 'kitchen': 26,\n",
       " 'john': 27,\n",
       " 'no': 28,\n",
       " 'in': 29,\n",
       " 'mary': 30,\n",
       " 'sandra': 31,\n",
       " 'dropped': 32,\n",
       " 'hallway': 33,\n",
       " 'yes': 34,\n",
       " 'got': 35,\n",
       " 'travelled': 36,\n",
       " 'moved': 37}"
      ]
     },
     "execution_count": 25,
     "metadata": {},
     "output_type": "execute_result"
    }
   ],
   "source": [
    "tokenizer.word_index"
   ]
  },
  {
   "cell_type": "code",
   "execution_count": 26,
   "metadata": {},
   "outputs": [],
   "source": [
    "train_story_text = []\n",
    "train_question_text = []\n",
    "train_answers = []"
   ]
  },
  {
   "cell_type": "code",
   "execution_count": 27,
   "metadata": {},
   "outputs": [],
   "source": [
    "for story, question, answer in train_data:\n",
    "    train_story_text.append(story)\n",
    "    train_question_text.append(question)\n",
    "    train_answers.append(answer)"
   ]
  },
  {
   "cell_type": "code",
   "execution_count": 28,
   "metadata": {},
   "outputs": [
    {
     "data": {
      "text/plain": [
       "[['Mary',\n",
       "  'moved',\n",
       "  'to',\n",
       "  'the',\n",
       "  'bathroom',\n",
       "  '.',\n",
       "  'Sandra',\n",
       "  'journeyed',\n",
       "  'to',\n",
       "  'the',\n",
       "  'bedroom',\n",
       "  '.'],\n",
       " ['Mary',\n",
       "  'moved',\n",
       "  'to',\n",
       "  'the',\n",
       "  'bathroom',\n",
       "  '.',\n",
       "  'Sandra',\n",
       "  'journeyed',\n",
       "  'to',\n",
       "  'the',\n",
       "  'bedroom',\n",
       "  '.',\n",
       "  'Mary',\n",
       "  'went',\n",
       "  'back',\n",
       "  'to',\n",
       "  'the',\n",
       "  'bedroom',\n",
       "  '.',\n",
       "  'Daniel',\n",
       "  'went',\n",
       "  'back',\n",
       "  'to',\n",
       "  'the',\n",
       "  'hallway',\n",
       "  '.']]"
      ]
     },
     "execution_count": 28,
     "metadata": {},
     "output_type": "execute_result"
    }
   ],
   "source": [
    "# Train_story_text is a list of lists of words\n",
    "train_story_text[:2]"
   ]
  },
  {
   "cell_type": "code",
   "execution_count": 29,
   "metadata": {},
   "outputs": [],
   "source": [
    "train_story_seq = tokenizer.texts_to_sequences(train_story_text)"
   ]
  },
  {
   "cell_type": "code",
   "execution_count": 30,
   "metadata": {},
   "outputs": [
    {
     "name": "stdout",
     "output_type": "stream",
     "text": [
      "10000\n",
      "10000\n"
     ]
    }
   ],
   "source": [
    "print(len(train_story_seq))\n",
    "print(len(train_story_text))"
   ]
  },
  {
   "cell_type": "code",
   "execution_count": 31,
   "metadata": {},
   "outputs": [
    {
     "data": {
      "text/plain": [
       "[['Mary',\n",
       "  'moved',\n",
       "  'to',\n",
       "  'the',\n",
       "  'bathroom',\n",
       "  '.',\n",
       "  'Sandra',\n",
       "  'journeyed',\n",
       "  'to',\n",
       "  'the',\n",
       "  'bedroom',\n",
       "  '.'],\n",
       " ['Mary',\n",
       "  'moved',\n",
       "  'to',\n",
       "  'the',\n",
       "  'bathroom',\n",
       "  '.',\n",
       "  'Sandra',\n",
       "  'journeyed',\n",
       "  'to',\n",
       "  'the',\n",
       "  'bedroom',\n",
       "  '.',\n",
       "  'Mary',\n",
       "  'went',\n",
       "  'back',\n",
       "  'to',\n",
       "  'the',\n",
       "  'bedroom',\n",
       "  '.',\n",
       "  'Daniel',\n",
       "  'went',\n",
       "  'back',\n",
       "  'to',\n",
       "  'the',\n",
       "  'hallway',\n",
       "  '.']]"
      ]
     },
     "execution_count": 31,
     "metadata": {},
     "output_type": "execute_result"
    }
   ],
   "source": [
    "train_story_text[:2]"
   ]
  },
  {
   "cell_type": "code",
   "execution_count": 32,
   "metadata": {},
   "outputs": [
    {
     "data": {
      "text/plain": [
       "[[30, 37, 19, 15, 8, 18, 31, 17, 19, 15, 6, 18],\n",
       " [30,\n",
       "  37,\n",
       "  19,\n",
       "  15,\n",
       "  8,\n",
       "  18,\n",
       "  31,\n",
       "  17,\n",
       "  19,\n",
       "  15,\n",
       "  6,\n",
       "  18,\n",
       "  30,\n",
       "  23,\n",
       "  24,\n",
       "  19,\n",
       "  15,\n",
       "  6,\n",
       "  18,\n",
       "  16,\n",
       "  23,\n",
       "  24,\n",
       "  19,\n",
       "  15,\n",
       "  33,\n",
       "  18]]"
      ]
     },
     "execution_count": 32,
     "metadata": {},
     "output_type": "execute_result"
    }
   ],
   "source": [
    "train_story_seq[:2]"
   ]
  },
  {
   "cell_type": "code",
   "execution_count": 33,
   "metadata": {},
   "outputs": [],
   "source": [
    "# Create our own list of list of word indicies with padding.\n",
    "def vectorize_stories(data, word_index=tokenizer.word_index, max_story_len=max_story_len, max_question_len=max_question_len):\n",
    "    # Stories = X\n",
    "    X = []\n",
    "    \n",
    "    # Questions = Xq\n",
    "    Xq = []\n",
    "    \n",
    "    # Y Correct Answer ['yes', 'no']\n",
    "    Y = []\n",
    "    for story, query, answer in data:\n",
    "        \n",
    "        # for each story\n",
    "        # [23, 14, 15]\n",
    "        x = [word_index[word.lower()] for word in story]\n",
    "        xq = [word_index[word.lower()] for word in query]\n",
    "        \n",
    "        y = np.zeros(len(word_index)+1)\n",
    "        y[word_index[answer]] = 1\n",
    "        \n",
    "        X.append(x)   # X holds list of lists of word indices for stories.\n",
    "        Xq.append(xq) # Xq holds list of lists for word indices for questions.\n",
    "        Y.append(y) # Y holds lists of lists of (38) biniary numbers, only 1 of them is 1.\n",
    "        \n",
    "    return (pad_sequences(X, maxlen=max_story_len), pad_sequences(Xq, maxlen=max_question_len), np.array(Y))"
   ]
  },
  {
   "cell_type": "code",
   "execution_count": 34,
   "metadata": {},
   "outputs": [],
   "source": [
    "inputs_train, queries_train, answers_train = vectorize_stories(train_data)"
   ]
  },
  {
   "cell_type": "code",
   "execution_count": 35,
   "metadata": {},
   "outputs": [],
   "source": [
    "inputs_test, queries_test, answers_test = vectorize_stories(test_data)"
   ]
  },
  {
   "cell_type": "code",
   "execution_count": 36,
   "metadata": {},
   "outputs": [
    {
     "data": {
      "text/plain": [
       "array([[ 0,  0,  0, ..., 15,  6, 18],\n",
       "       [ 0,  0,  0, ..., 15, 25, 18],\n",
       "       [ 0,  0,  0, ..., 15, 25, 18],\n",
       "       ...,\n",
       "       [ 0,  0,  0, ..., 15, 13, 18],\n",
       "       [ 0,  0,  0, ..., 15, 25, 18],\n",
       "       [ 0,  0,  0, ..., 13, 10, 18]])"
      ]
     },
     "execution_count": 36,
     "metadata": {},
     "output_type": "execute_result"
    }
   ],
   "source": [
    "inputs_test"
   ]
  },
  {
   "cell_type": "code",
   "execution_count": 37,
   "metadata": {},
   "outputs": [
    {
     "data": {
      "text/plain": [
       "array([[0., 0., 0., ..., 0., 0., 0.],\n",
       "       [0., 0., 0., ..., 0., 0., 0.],\n",
       "       [0., 0., 0., ..., 0., 0., 0.],\n",
       "       ...,\n",
       "       [0., 0., 0., ..., 0., 0., 0.],\n",
       "       [0., 0., 0., ..., 0., 0., 0.],\n",
       "       [0., 0., 0., ..., 0., 0., 0.]])"
      ]
     },
     "execution_count": 37,
     "metadata": {},
     "output_type": "execute_result"
    }
   ],
   "source": [
    "answers_test"
   ]
  },
  {
   "cell_type": "code",
   "execution_count": 38,
   "metadata": {},
   "outputs": [
    {
     "data": {
      "text/plain": [
       "34"
      ]
     },
     "execution_count": 38,
     "metadata": {},
     "output_type": "execute_result"
    }
   ],
   "source": [
    "tokenizer.word_index['yes']"
   ]
  },
  {
   "cell_type": "code",
   "execution_count": 39,
   "metadata": {},
   "outputs": [
    {
     "data": {
      "text/plain": [
       "28"
      ]
     },
     "execution_count": 39,
     "metadata": {},
     "output_type": "execute_result"
    }
   ],
   "source": [
    "tokenizer.word_index['no']"
   ]
  },
  {
   "cell_type": "code",
   "execution_count": 40,
   "metadata": {},
   "outputs": [
    {
     "data": {
      "text/plain": [
       "array([  0.,   0.,   0.,   0.,   0.,   0.,   0.,   0.,   0.,   0.,   0.,\n",
       "         0.,   0.,   0.,   0.,   0.,   0.,   0.,   0.,   0.,   0.,   0.,\n",
       "         0.,   0.,   0.,   0.,   0.,   0., 503.,   0.,   0.,   0.,   0.,\n",
       "         0., 497.,   0.,   0.,   0.])"
      ]
     },
     "execution_count": 40,
     "metadata": {},
     "output_type": "execute_result"
    }
   ],
   "source": [
    "# 497 of the questions have answer 'yes', 503 of the questions have answer 'no'.\n",
    "sum(answers_test)"
   ]
  },
  {
   "cell_type": "code",
   "execution_count": 41,
   "metadata": {},
   "outputs": [],
   "source": [
    "from keras.models import Sequential, Model\n",
    "from keras.layers.embeddings import Embedding\n",
    "from keras.layers import Input, Activation, Dense, Permute, Dropout, add, dot, concatenate, LSTM"
   ]
  },
  {
   "cell_type": "markdown",
   "metadata": {},
   "source": [
    "## Algorithms and Techniques\n",
    "\n",
    "The design in this project follows the paper \"End-to-End Memory Networks\" https://arxiv.org/pdf/1503.08895.pdf\n",
    "\n",
    "Below are the detail descriptions about the algorithms and techniques used in this model (quoted from that paper):\n",
    "\n",
    "**Single Layer:**\n",
    "<img src=\"images/end_to_end_networks_descriptions.GIF\" style=\"width:500;height:500px;\">\n",
    "\n",
    "<img src=\"images/end_to_end_networks_diagram3.GIF\" style=\"width:500;height:500px;\">\n",
    "\n",
    "Source of the above figure: https://arxiv.org/pdf/1503.08895.pdf"
   ]
  },
  {
   "cell_type": "markdown",
   "metadata": {},
   "source": [
    "## Architecture of the model\n",
    "\n",
    "The architecture of the model implemented below follows the paper: The https://arxiv.org/pdf/1503.08895.pdf\n",
    "\n",
    "The layers of the model looks like:\n",
    "1. Input\n",
    "> - A. input_sequence (fits on input_train): shape = (batch_size, max_story_len))\n",
    "> - B. question (fits on queries_train: shape = (batch_size, max_query_len))\n",
    "2. Embedding\n",
    "> - A. embedding for input_encoder_m: take input from input_sequence. Output shape: (batch_size, story_maxlen, embedding_dim)\n",
    "> - B. embedding for input_encoder_c: take input from input_sequence. Output shape: (batch_size, story_maxlen, max_question_len)\n",
    "> - C. embedding for question_encoder: take input from question. Output shape: (batch_size, query_maxlen, embedding_dim)\n",
    "3. Layers after Embedding\n",
    "> - A. dot: dot input_encoded_m and question_encoded (output from 2A and 2C) along axes of embedding dimension. Output shape: (batch_size, story_maxlen, query_maxlen)\n",
    "> - B. add: add output from 3A and 2B. Output shape: (batch_size, story_maxlen, query_maxlen)\n",
    "> - C. Permute: permute 2nd and 3rd axes from output of 3B. Output shape: (batch_size, query_maxlen, story_maxlen)\n",
    "> - D. concatenate: concatenate output from 3C and 2B. Output shape: (batch_size, query_maxlen, story_maxlen+embedding_dim) \n",
    "4. LSTM (hidden_unit = 32)\n",
    "5. Dropout (rate = 0.3)\n",
    "6. Dense (output = vocab_size)\n",
    "7. Activation (activation function = 'softmax')"
   ]
  },
  {
   "cell_type": "code",
   "execution_count": 42,
   "metadata": {},
   "outputs": [],
   "source": [
    "# PLACEHOLDER shape=(max_story_len, batch_size)\n",
    "input_sequence = Input((max_story_len,))\n",
    "question = Input((max_question_len,))"
   ]
  },
  {
   "cell_type": "code",
   "execution_count": 43,
   "metadata": {},
   "outputs": [],
   "source": [
    "# vocab_len\n",
    "vocab_size = len(vocab) + 1"
   ]
  },
  {
   "cell_type": "code",
   "execution_count": 44,
   "metadata": {},
   "outputs": [
    {
     "name": "stdout",
     "output_type": "stream",
     "text": [
      "WARNING:tensorflow:From C:\\Users\\flasi\\anaconda3\\envs\\igti\\lib\\site-packages\\tensorflow_core\\python\\ops\\resource_variable_ops.py:1630: calling BaseResourceVariable.__init__ (from tensorflow.python.ops.resource_variable_ops) with constraint is deprecated and will be removed in a future version.\n",
      "Instructions for updating:\n",
      "If using Keras pass *_constraint arguments to layers.\n"
     ]
    }
   ],
   "source": [
    "# INPUT ENCODER M\n",
    "input_encoder_m = Sequential()\n",
    "input_encoder_m.add(Embedding(input_dim=vocab_size, output_dim=64))\n",
    "input_encoder_m.add(Dropout(0.3))\n",
    "\n",
    "# OUTPUT\n",
    "# (samples, story_maxlen, embedding_dim)"
   ]
  },
  {
   "cell_type": "code",
   "execution_count": 45,
   "metadata": {},
   "outputs": [],
   "source": [
    "# INPUT ENCODER C\n",
    "input_encoder_c = Sequential()\n",
    "input_encoder_c.add(Embedding(input_dim=vocab_size, output_dim=max_question_len))\n",
    "input_encoder_c.add(Dropout(0.3))\n",
    "\n",
    "# OUTPUT\n",
    "# (samples, story_maxlen, max_question_len)"
   ]
  },
  {
   "cell_type": "code",
   "execution_count": 46,
   "metadata": {},
   "outputs": [],
   "source": [
    "question_encoder = Sequential()\n",
    "question_encoder.add(Embedding(input_dim=vocab_size, output_dim=64, input_length=max_question_len))\n",
    "question_encoder.add(Dropout(0.3))\n",
    "\n",
    "# OUTPUT\n",
    "# (samples, query_maxlen, embedding_dim)"
   ]
  },
  {
   "cell_type": "code",
   "execution_count": 47,
   "metadata": {},
   "outputs": [],
   "source": [
    "# ENCODED <---- ENCODER(INPUT)\n",
    "input_encoded_m = input_encoder_m(input_sequence)\n",
    "input_encoded_c = input_encoder_c(input_sequence)\n",
    "question_encoded = question_encoder(question)\n",
    "\n",
    "# input_encoded_m: (batch_size, story_maxlen, embedding_dim)\n",
    "# input_encoded_c: (batch_size, story_maxlen, query_maxlen)\n",
    "# question_encoded: (batch_size, query_maxlen, embedding_dim)"
   ]
  },
  {
   "cell_type": "code",
   "execution_count": 48,
   "metadata": {},
   "outputs": [
    {
     "name": "stdout",
     "output_type": "stream",
     "text": [
      "(?, 156, 64)\n",
      "(?, 6, 64)\n"
     ]
    }
   ],
   "source": [
    "print(input_encoded_m.shape)\n",
    "print(question_encoded.shape)"
   ]
  },
  {
   "cell_type": "code",
   "execution_count": 49,
   "metadata": {},
   "outputs": [],
   "source": [
    "match = dot([input_encoded_m, question_encoded], axes=(2,2)) # why axes is (2,2) ==> dot product along the embedding dim (64 numbers dot 64 numbers)\n",
    "match = Activation('softmax')(match)\n",
    "\n",
    "# NOTE: match after dot: (batch_size, story_maxlen, query_maxlen)\n",
    "# match after Activation: (batch_size, story_maxlen, query_maxlen)"
   ]
  },
  {
   "cell_type": "markdown",
   "metadata": {},
   "source": [
    "**NOTE: match (after dot): (batch_size, story_maxlen, query_maxlen)!!!**"
   ]
  },
  {
   "cell_type": "code",
   "execution_count": 50,
   "metadata": {},
   "outputs": [],
   "source": [
    "response = add([match, input_encoded_c]) # (samples, story_maxlen, query_maxlen)\n",
    "response = Permute((2,1))(response) # (samples, query_maxlen, story_maxlen)\n",
    "\n",
    "# response after add: (batch_size, story_maxlen, query_maxlen)\n",
    "# response after Permute: (batch_size, query_maxlen, story_maxlen)"
   ]
  },
  {
   "cell_type": "markdown",
   "metadata": {},
   "source": [
    "**NOTE: response after Permute: (batch_size, query_maxlen, story_maxlen)!!!**"
   ]
  },
  {
   "cell_type": "code",
   "execution_count": 51,
   "metadata": {},
   "outputs": [],
   "source": [
    "answer = concatenate([response, question_encoded])\n",
    "\n",
    "# Note: answer: (batch_size, query_maxlen, story_maxlen+embedding_dim)"
   ]
  },
  {
   "cell_type": "code",
   "execution_count": 52,
   "metadata": {},
   "outputs": [
    {
     "data": {
      "text/plain": [
       "<tf.Tensor 'concatenate_1/concat:0' shape=(?, 6, 220) dtype=float32>"
      ]
     },
     "execution_count": 52,
     "metadata": {},
     "output_type": "execute_result"
    }
   ],
   "source": [
    "answer\n",
    "# Note: answer: (batch_size, query_maxlen, story_maxlen+embedding_dim)"
   ]
  },
  {
   "cell_type": "markdown",
   "metadata": {},
   "source": [
    "**NOTE: answer (after concatenate): (batch_size, query_maxlen, story_maxlen+embedding_dim)!!!**"
   ]
  },
  {
   "cell_type": "code",
   "execution_count": 53,
   "metadata": {},
   "outputs": [],
   "source": [
    "answer = LSTM(32)(answer) #(samples, 32)\n",
    "# answer: (batch_size, 32)"
   ]
  },
  {
   "cell_type": "code",
   "execution_count": 54,
   "metadata": {},
   "outputs": [
    {
     "name": "stdout",
     "output_type": "stream",
     "text": [
      "(?, 32)\n"
     ]
    }
   ],
   "source": [
    "print(answer.shape)"
   ]
  },
  {
   "cell_type": "code",
   "execution_count": 55,
   "metadata": {},
   "outputs": [],
   "source": [
    "answer = Dropout(0.5)(answer)\n",
    "# answer: (batch_size, 32)"
   ]
  },
  {
   "cell_type": "code",
   "execution_count": 56,
   "metadata": {},
   "outputs": [],
   "source": [
    "answer = Dense(vocab_size)(answer) # (samples, vocab_size) # YES/NO 0000\n",
    "# answer (batch_size, vocab_size)"
   ]
  },
  {
   "cell_type": "code",
   "execution_count": 57,
   "metadata": {},
   "outputs": [],
   "source": [
    "answer = Activation('softmax')(answer)\n",
    "# answer: (batch_size, vocab_size)"
   ]
  },
  {
   "cell_type": "code",
   "execution_count": 58,
   "metadata": {},
   "outputs": [
    {
     "data": {
      "text/plain": [
       "<tf.Tensor 'activation_2/Softmax:0' shape=(?, 38) dtype=float32>"
      ]
     },
     "execution_count": 58,
     "metadata": {},
     "output_type": "execute_result"
    }
   ],
   "source": [
    "answer"
   ]
  },
  {
   "cell_type": "code",
   "execution_count": 59,
   "metadata": {},
   "outputs": [],
   "source": [
    "model = Model([input_sequence, question], answer)"
   ]
  },
  {
   "cell_type": "code",
   "execution_count": 60,
   "metadata": {},
   "outputs": [],
   "source": [
    "#model.compile(optimizer='rmsprop', loss='categorical_crossentropy', metrics=['accuracy'])\n",
    "model.compile(optimizer='adam', loss='categorical_crossentropy', metrics=['accuracy'])"
   ]
  },
  {
   "cell_type": "code",
   "execution_count": 61,
   "metadata": {},
   "outputs": [
    {
     "name": "stdout",
     "output_type": "stream",
     "text": [
      "Model: \"model_1\"\n",
      "__________________________________________________________________________________________________\n",
      "Layer (type)                    Output Shape         Param #     Connected to                     \n",
      "==================================================================================================\n",
      "input_1 (InputLayer)            (None, 156)          0                                            \n",
      "__________________________________________________________________________________________________\n",
      "input_2 (InputLayer)            (None, 6)            0                                            \n",
      "__________________________________________________________________________________________________\n",
      "sequential_1 (Sequential)       multiple             2432        input_1[0][0]                    \n",
      "__________________________________________________________________________________________________\n",
      "sequential_3 (Sequential)       (None, 6, 64)        2432        input_2[0][0]                    \n",
      "__________________________________________________________________________________________________\n",
      "dot_1 (Dot)                     (None, 156, 6)       0           sequential_1[1][0]               \n",
      "                                                                 sequential_3[1][0]               \n",
      "__________________________________________________________________________________________________\n",
      "activation_1 (Activation)       (None, 156, 6)       0           dot_1[0][0]                      \n",
      "__________________________________________________________________________________________________\n",
      "sequential_2 (Sequential)       multiple             228         input_1[0][0]                    \n",
      "__________________________________________________________________________________________________\n",
      "add_1 (Add)                     (None, 156, 6)       0           activation_1[0][0]               \n",
      "                                                                 sequential_2[1][0]               \n",
      "__________________________________________________________________________________________________\n",
      "permute_1 (Permute)             (None, 6, 156)       0           add_1[0][0]                      \n",
      "__________________________________________________________________________________________________\n",
      "concatenate_1 (Concatenate)     (None, 6, 220)       0           permute_1[0][0]                  \n",
      "                                                                 sequential_3[1][0]               \n",
      "__________________________________________________________________________________________________\n",
      "lstm_1 (LSTM)                   (None, 32)           32384       concatenate_1[0][0]              \n",
      "__________________________________________________________________________________________________\n",
      "dropout_4 (Dropout)             (None, 32)           0           lstm_1[0][0]                     \n",
      "__________________________________________________________________________________________________\n",
      "dense_1 (Dense)                 (None, 38)           1254        dropout_4[0][0]                  \n",
      "__________________________________________________________________________________________________\n",
      "activation_2 (Activation)       (None, 38)           0           dense_1[0][0]                    \n",
      "==================================================================================================\n",
      "Total params: 38,730\n",
      "Trainable params: 38,730\n",
      "Non-trainable params: 0\n",
      "__________________________________________________________________________________________________\n"
     ]
    }
   ],
   "source": [
    "model.summary()"
   ]
  },
  {
   "cell_type": "code",
   "execution_count": 62,
   "metadata": {},
   "outputs": [
    {
     "name": "stdout",
     "output_type": "stream",
     "text": [
      "WARNING:tensorflow:From C:\\Users\\flasi\\anaconda3\\envs\\igti\\lib\\site-packages\\keras\\backend\\tensorflow_backend.py:422: The name tf.global_variables is deprecated. Please use tf.compat.v1.global_variables instead.\n",
      "\n",
      "Train on 10000 samples, validate on 1000 samples\n",
      "Epoch 1/100\n",
      "10000/10000 [==============================] - 7s 696us/step - loss: 0.9829 - accuracy: 0.4885 - val_loss: 0.7008 - val_accuracy: 0.4970\n",
      "Epoch 2/100\n",
      "10000/10000 [==============================] - 6s 567us/step - loss: 0.7122 - accuracy: 0.5036 - val_loss: 0.6967 - val_accuracy: 0.4970\n",
      "Epoch 3/100\n",
      "10000/10000 [==============================] - 5s 549us/step - loss: 0.7024 - accuracy: 0.4932 - val_loss: 0.6959 - val_accuracy: 0.4970\n",
      "Epoch 4/100\n",
      "10000/10000 [==============================] - 6s 568us/step - loss: 0.6988 - accuracy: 0.4934 - val_loss: 0.6936 - val_accuracy: 0.4970\n",
      "Epoch 5/100\n",
      "10000/10000 [==============================] - 5s 547us/step - loss: 0.6984 - accuracy: 0.4886 - val_loss: 0.6934 - val_accuracy: 0.5030\n",
      "Epoch 6/100\n",
      "10000/10000 [==============================] - 6s 563us/step - loss: 0.6973 - accuracy: 0.4959 - val_loss: 0.6933 - val_accuracy: 0.5030\n",
      "Epoch 7/100\n",
      "10000/10000 [==============================] - 6s 570us/step - loss: 0.6964 - accuracy: 0.4970 - val_loss: 0.6934 - val_accuracy: 0.5030\n",
      "Epoch 8/100\n",
      "10000/10000 [==============================] - 6s 553us/step - loss: 0.6961 - accuracy: 0.5030 - val_loss: 0.6936 - val_accuracy: 0.5030\n",
      "Epoch 9/100\n",
      "10000/10000 [==============================] - 6s 568us/step - loss: 0.6954 - accuracy: 0.5046 - val_loss: 0.6932 - val_accuracy: 0.5030\n",
      "Epoch 10/100\n",
      "10000/10000 [==============================] - 6s 558us/step - loss: 0.6961 - accuracy: 0.5027 - val_loss: 0.6954 - val_accuracy: 0.4970\n",
      "Epoch 11/100\n",
      "10000/10000 [==============================] - 6s 577us/step - loss: 0.6950 - accuracy: 0.5073 - val_loss: 0.6940 - val_accuracy: 0.4970\n",
      "Epoch 12/100\n",
      "10000/10000 [==============================] - 6s 573us/step - loss: 0.6961 - accuracy: 0.4950 - val_loss: 0.6944 - val_accuracy: 0.4970\n",
      "Epoch 13/100\n",
      "10000/10000 [==============================] - 6s 580us/step - loss: 0.6957 - accuracy: 0.4979 - val_loss: 0.6963 - val_accuracy: 0.4970\n",
      "Epoch 14/100\n",
      "10000/10000 [==============================] - 6s 561us/step - loss: 0.6953 - accuracy: 0.4987 - val_loss: 0.6932 - val_accuracy: 0.5030\n",
      "Epoch 15/100\n",
      "10000/10000 [==============================] - 6s 582us/step - loss: 0.6947 - accuracy: 0.5030 - val_loss: 0.6936 - val_accuracy: 0.5030\n",
      "Epoch 16/100\n",
      "10000/10000 [==============================] - 6s 575us/step - loss: 0.6954 - accuracy: 0.4985 - val_loss: 0.6938 - val_accuracy: 0.5030\n",
      "Epoch 17/100\n",
      "10000/10000 [==============================] - 6s 604us/step - loss: 0.6959 - accuracy: 0.4974 - val_loss: 0.6933 - val_accuracy: 0.4970\n",
      "Epoch 18/100\n",
      "10000/10000 [==============================] - 6s 576us/step - loss: 0.6948 - accuracy: 0.5049 - val_loss: 0.6964 - val_accuracy: 0.4970\n",
      "Epoch 19/100\n",
      "10000/10000 [==============================] - 6s 581us/step - loss: 0.6960 - accuracy: 0.4975 - val_loss: 0.6938 - val_accuracy: 0.5030\n",
      "Epoch 20/100\n",
      "10000/10000 [==============================] - 6s 581us/step - loss: 0.6944 - accuracy: 0.5022 - val_loss: 0.6934 - val_accuracy: 0.5030\n",
      "Epoch 21/100\n",
      "10000/10000 [==============================] - 6s 565us/step - loss: 0.6959 - accuracy: 0.4941 - val_loss: 0.6948 - val_accuracy: 0.4970\n",
      "Epoch 22/100\n",
      "10000/10000 [==============================] - 6s 587us/step - loss: 0.6945 - accuracy: 0.5016 - val_loss: 0.6935 - val_accuracy: 0.5030\n",
      "Epoch 23/100\n",
      "10000/10000 [==============================] - 6s 576us/step - loss: 0.6950 - accuracy: 0.5014 - val_loss: 0.6934 - val_accuracy: 0.4970\n",
      "Epoch 24/100\n",
      "10000/10000 [==============================] - 6s 575us/step - loss: 0.6944 - accuracy: 0.4985 - val_loss: 0.6944 - val_accuracy: 0.4970\n",
      "Epoch 25/100\n",
      "10000/10000 [==============================] - 6s 587us/step - loss: 0.6946 - accuracy: 0.5038 - val_loss: 0.6933 - val_accuracy: 0.5030\n",
      "Epoch 26/100\n",
      "10000/10000 [==============================] - 6s 571us/step - loss: 0.6946 - accuracy: 0.5012 - val_loss: 0.6948 - val_accuracy: 0.5030\n",
      "Epoch 27/100\n",
      "10000/10000 [==============================] - 6s 599us/step - loss: 0.6941 - accuracy: 0.5015 - val_loss: 0.6938 - val_accuracy: 0.5040\n",
      "Epoch 28/100\n",
      "10000/10000 [==============================] - 6s 593us/step - loss: 0.6612 - accuracy: 0.6068 - val_loss: 0.6302 - val_accuracy: 0.6610\n",
      "Epoch 29/100\n",
      "10000/10000 [==============================] - 6s 592us/step - loss: 0.6213 - accuracy: 0.6677 - val_loss: 0.6068 - val_accuracy: 0.6810\n",
      "Epoch 30/100\n",
      "10000/10000 [==============================] - 6s 597us/step - loss: 0.6054 - accuracy: 0.6841 - val_loss: 0.5859 - val_accuracy: 0.6950\n",
      "Epoch 31/100\n",
      "10000/10000 [==============================] - 6s 591us/step - loss: 0.5796 - accuracy: 0.6983 - val_loss: 0.5814 - val_accuracy: 0.7050\n",
      "Epoch 32/100\n",
      "10000/10000 [==============================] - 6s 592us/step - loss: 0.5631 - accuracy: 0.7096 - val_loss: 0.5590 - val_accuracy: 0.7150\n",
      "Epoch 33/100\n",
      "10000/10000 [==============================] - 6s 589us/step - loss: 0.5425 - accuracy: 0.7260 - val_loss: 0.5588 - val_accuracy: 0.7190\n",
      "Epoch 34/100\n",
      "10000/10000 [==============================] - 6s 592us/step - loss: 0.5220 - accuracy: 0.7392 - val_loss: 0.5406 - val_accuracy: 0.7270\n",
      "Epoch 35/100\n",
      "10000/10000 [==============================] - 6s 606us/step - loss: 0.5152 - accuracy: 0.7383 - val_loss: 0.5208 - val_accuracy: 0.7330\n",
      "Epoch 36/100\n",
      "10000/10000 [==============================] - 6s 595us/step - loss: 0.4995 - accuracy: 0.7497 - val_loss: 0.5245 - val_accuracy: 0.7210\n",
      "Epoch 37/100\n",
      "10000/10000 [==============================] - 6s 628us/step - loss: 0.4997 - accuracy: 0.7487 - val_loss: 0.5159 - val_accuracy: 0.7340\n",
      "Epoch 38/100\n",
      "10000/10000 [==============================] - 6s 600us/step - loss: 0.4903 - accuracy: 0.7549 - val_loss: 0.5222 - val_accuracy: 0.7240\n",
      "Epoch 39/100\n",
      "10000/10000 [==============================] - 6s 609us/step - loss: 0.4843 - accuracy: 0.7570 - val_loss: 0.5201 - val_accuracy: 0.7270\n",
      "Epoch 40/100\n",
      "10000/10000 [==============================] - 6s 606us/step - loss: 0.4807 - accuracy: 0.7618 - val_loss: 0.5113 - val_accuracy: 0.7270\n",
      "Epoch 41/100\n",
      "10000/10000 [==============================] - 6s 623us/step - loss: 0.4757 - accuracy: 0.7553 - val_loss: 0.5047 - val_accuracy: 0.7380\n",
      "Epoch 42/100\n",
      "10000/10000 [==============================] - 6s 647us/step - loss: 0.4699 - accuracy: 0.7667 - val_loss: 0.4958 - val_accuracy: 0.7470\n",
      "Epoch 43/100\n",
      "10000/10000 [==============================] - 6s 624us/step - loss: 0.4658 - accuracy: 0.7735 - val_loss: 0.4933 - val_accuracy: 0.7530\n",
      "Epoch 44/100\n",
      "10000/10000 [==============================] - 7s 678us/step - loss: 0.4605 - accuracy: 0.7785 - val_loss: 0.4831 - val_accuracy: 0.7600\n",
      "Epoch 45/100\n",
      "10000/10000 [==============================] - 7s 721us/step - loss: 0.4513 - accuracy: 0.7852 - val_loss: 0.4707 - val_accuracy: 0.7690\n",
      "Epoch 46/100\n",
      "10000/10000 [==============================] - 6s 609us/step - loss: 0.4346 - accuracy: 0.7937 - val_loss: 0.4629 - val_accuracy: 0.7790\n",
      "Epoch 47/100\n",
      "10000/10000 [==============================] - 6s 618us/step - loss: 0.4295 - accuracy: 0.7990 - val_loss: 0.4591 - val_accuracy: 0.7900\n",
      "Epoch 48/100\n",
      "10000/10000 [==============================] - 6s 611us/step - loss: 0.4258 - accuracy: 0.7988 - val_loss: 0.4537 - val_accuracy: 0.7860\n",
      "Epoch 49/100\n",
      "10000/10000 [==============================] - 6s 607us/step - loss: 0.4131 - accuracy: 0.8080 - val_loss: 0.4498 - val_accuracy: 0.7930\n",
      "Epoch 50/100\n",
      "10000/10000 [==============================] - 6s 618us/step - loss: 0.4153 - accuracy: 0.8069 - val_loss: 0.4335 - val_accuracy: 0.7980\n",
      "Epoch 51/100\n",
      "10000/10000 [==============================] - 6s 627us/step - loss: 0.4029 - accuracy: 0.8127 - val_loss: 0.4336 - val_accuracy: 0.7930\n",
      "Epoch 52/100\n",
      "10000/10000 [==============================] - 6s 627us/step - loss: 0.4024 - accuracy: 0.8188 - val_loss: 0.4328 - val_accuracy: 0.7940\n",
      "Epoch 53/100\n",
      "10000/10000 [==============================] - 6s 616us/step - loss: 0.3941 - accuracy: 0.8202 - val_loss: 0.4419 - val_accuracy: 0.8020\n"
     ]
    },
    {
     "name": "stdout",
     "output_type": "stream",
     "text": [
      "Epoch 54/100\n",
      "10000/10000 [==============================] - 6s 555us/step - loss: 0.3929 - accuracy: 0.8232 - val_loss: 0.4332 - val_accuracy: 0.7990\n",
      "Epoch 55/100\n",
      "10000/10000 [==============================] - 6s 570us/step - loss: 0.3876 - accuracy: 0.8240 - val_loss: 0.4327 - val_accuracy: 0.8100\n",
      "Epoch 56/100\n",
      "10000/10000 [==============================] - 6s 560us/step - loss: 0.3777 - accuracy: 0.8348 - val_loss: 0.4490 - val_accuracy: 0.8010\n",
      "Epoch 57/100\n",
      "10000/10000 [==============================] - 6s 601us/step - loss: 0.3757 - accuracy: 0.8270 - val_loss: 0.4435 - val_accuracy: 0.7940\n",
      "Epoch 58/100\n",
      "10000/10000 [==============================] - 6s 640us/step - loss: 0.3731 - accuracy: 0.8350 - val_loss: 0.4279 - val_accuracy: 0.8100\n",
      "Epoch 59/100\n",
      "10000/10000 [==============================] - 7s 741us/step - loss: 0.3671 - accuracy: 0.8365 - val_loss: 0.4291 - val_accuracy: 0.8110\n",
      "Epoch 60/100\n",
      "10000/10000 [==============================] - 6s 605us/step - loss: 0.3658 - accuracy: 0.8343 - val_loss: 0.4472 - val_accuracy: 0.8010\n",
      "Epoch 61/100\n",
      "10000/10000 [==============================] - 6s 601us/step - loss: 0.3677 - accuracy: 0.8347 - val_loss: 0.4269 - val_accuracy: 0.8080\n",
      "Epoch 62/100\n",
      "10000/10000 [==============================] - 8s 798us/step - loss: 0.3600 - accuracy: 0.8426 - val_loss: 0.4216 - val_accuracy: 0.8070\n",
      "Epoch 63/100\n",
      "10000/10000 [==============================] - 7s 740us/step - loss: 0.3545 - accuracy: 0.8450 - val_loss: 0.4296 - val_accuracy: 0.8100\n",
      "Epoch 64/100\n",
      "10000/10000 [==============================] - 7s 663us/step - loss: 0.3443 - accuracy: 0.8493 - val_loss: 0.4289 - val_accuracy: 0.8110\n",
      "Epoch 65/100\n",
      "10000/10000 [==============================] - 7s 707us/step - loss: 0.3391 - accuracy: 0.8527 - val_loss: 0.4247 - val_accuracy: 0.8180\n",
      "Epoch 66/100\n",
      "10000/10000 [==============================] - 6s 616us/step - loss: 0.3414 - accuracy: 0.8513 - val_loss: 0.4139 - val_accuracy: 0.8130\n",
      "Epoch 67/100\n",
      "10000/10000 [==============================] - 6s 572us/step - loss: 0.3409 - accuracy: 0.8465 - val_loss: 0.4402 - val_accuracy: 0.8160\n",
      "Epoch 68/100\n",
      "10000/10000 [==============================] - 7s 732us/step - loss: 0.3315 - accuracy: 0.8582 - val_loss: 0.4255 - val_accuracy: 0.8140\n",
      "Epoch 69/100\n",
      "10000/10000 [==============================] - 7s 721us/step - loss: 0.3323 - accuracy: 0.8535 - val_loss: 0.4264 - val_accuracy: 0.8140\n",
      "Epoch 70/100\n",
      "10000/10000 [==============================] - 6s 649us/step - loss: 0.3266 - accuracy: 0.8561 - val_loss: 0.4395 - val_accuracy: 0.8110\n",
      "Epoch 71/100\n",
      "10000/10000 [==============================] - 7s 655us/step - loss: 0.3272 - accuracy: 0.8544 - val_loss: 0.4283 - val_accuracy: 0.8150\n",
      "Epoch 72/100\n",
      "10000/10000 [==============================] - 6s 626us/step - loss: 0.3224 - accuracy: 0.8549 - val_loss: 0.4418 - val_accuracy: 0.8190\n",
      "Epoch 73/100\n",
      "10000/10000 [==============================] - 7s 693us/step - loss: 0.3189 - accuracy: 0.8611 - val_loss: 0.4302 - val_accuracy: 0.8160\n",
      "Epoch 74/100\n",
      "10000/10000 [==============================] - 6s 647us/step - loss: 0.3208 - accuracy: 0.8591 - val_loss: 0.4399 - val_accuracy: 0.8120\n",
      "Epoch 75/100\n",
      "10000/10000 [==============================] - 7s 699us/step - loss: 0.3132 - accuracy: 0.8648 - val_loss: 0.4448 - val_accuracy: 0.8160\n",
      "Epoch 76/100\n",
      "10000/10000 [==============================] - 7s 685us/step - loss: 0.3107 - accuracy: 0.8637 - val_loss: 0.4404 - val_accuracy: 0.8130\n",
      "Epoch 77/100\n",
      "10000/10000 [==============================] - 6s 637us/step - loss: 0.3120 - accuracy: 0.8639 - val_loss: 0.4501 - val_accuracy: 0.8200\n",
      "Epoch 78/100\n",
      "10000/10000 [==============================] - 6s 634us/step - loss: 0.3124 - accuracy: 0.8674 - val_loss: 0.4339 - val_accuracy: 0.8150\n",
      "Epoch 79/100\n",
      "10000/10000 [==============================] - 6s 639us/step - loss: 0.3076 - accuracy: 0.8697 - val_loss: 0.4510 - val_accuracy: 0.8100\n",
      "Epoch 80/100\n",
      "10000/10000 [==============================] - 6s 646us/step - loss: 0.3005 - accuracy: 0.8680 - val_loss: 0.4611 - val_accuracy: 0.8220\n",
      "Epoch 81/100\n",
      "10000/10000 [==============================] - 6s 636us/step - loss: 0.3022 - accuracy: 0.8707 - val_loss: 0.4330 - val_accuracy: 0.8180\n",
      "Epoch 82/100\n",
      "10000/10000 [==============================] - 6s 626us/step - loss: 0.3016 - accuracy: 0.8678 - val_loss: 0.4329 - val_accuracy: 0.8190\n",
      "Epoch 83/100\n",
      "10000/10000 [==============================] - 6s 642us/step - loss: 0.2977 - accuracy: 0.8695 - val_loss: 0.4470 - val_accuracy: 0.8210\n",
      "Epoch 84/100\n",
      "10000/10000 [==============================] - 6s 626us/step - loss: 0.2943 - accuracy: 0.8739 - val_loss: 0.4361 - val_accuracy: 0.8140\n",
      "Epoch 85/100\n",
      "10000/10000 [==============================] - 6s 640us/step - loss: 0.2961 - accuracy: 0.8752 - val_loss: 0.4483 - val_accuracy: 0.8210\n",
      "Epoch 86/100\n",
      "10000/10000 [==============================] - 6s 649us/step - loss: 0.2889 - accuracy: 0.8766 - val_loss: 0.4698 - val_accuracy: 0.8120\n",
      "Epoch 87/100\n",
      "10000/10000 [==============================] - 7s 703us/step - loss: 0.2884 - accuracy: 0.8774 - val_loss: 0.4557 - val_accuracy: 0.8180\n",
      "Epoch 88/100\n",
      "10000/10000 [==============================] - 7s 650us/step - loss: 0.2902 - accuracy: 0.8773 - val_loss: 0.4511 - val_accuracy: 0.8140\n",
      "Epoch 89/100\n",
      "10000/10000 [==============================] - 7s 670us/step - loss: 0.2848 - accuracy: 0.8773 - val_loss: 0.4639 - val_accuracy: 0.8260\n",
      "Epoch 90/100\n",
      "10000/10000 [==============================] - 8s 819us/step - loss: 0.2783 - accuracy: 0.8834 - val_loss: 0.4755 - val_accuracy: 0.8180\n",
      "Epoch 91/100\n",
      "10000/10000 [==============================] - 7s 663us/step - loss: 0.2768 - accuracy: 0.8786 - val_loss: 0.4584 - val_accuracy: 0.8210\n",
      "Epoch 92/100\n",
      "10000/10000 [==============================] - 7s 674us/step - loss: 0.2755 - accuracy: 0.8822 - val_loss: 0.4499 - val_accuracy: 0.8100\n",
      "Epoch 93/100\n",
      "10000/10000 [==============================] - 7s 663us/step - loss: 0.2758 - accuracy: 0.8828 - val_loss: 0.4557 - val_accuracy: 0.8180\n",
      "Epoch 94/100\n",
      "10000/10000 [==============================] - 7s 665us/step - loss: 0.2740 - accuracy: 0.8858 - val_loss: 0.4832 - val_accuracy: 0.8260\n",
      "Epoch 95/100\n",
      "10000/10000 [==============================] - 7s 658us/step - loss: 0.2748 - accuracy: 0.8790 - val_loss: 0.4724 - val_accuracy: 0.8160\n",
      "Epoch 96/100\n",
      "10000/10000 [==============================] - 6s 649us/step - loss: 0.2623 - accuracy: 0.8876 - val_loss: 0.4879 - val_accuracy: 0.8280\n",
      "Epoch 97/100\n",
      "10000/10000 [==============================] - 7s 666us/step - loss: 0.2666 - accuracy: 0.8850 - val_loss: 0.4986 - val_accuracy: 0.8140\n",
      "Epoch 98/100\n",
      "10000/10000 [==============================] - 7s 673us/step - loss: 0.2631 - accuracy: 0.8892 - val_loss: 0.4730 - val_accuracy: 0.8170\n",
      "Epoch 99/100\n",
      "10000/10000 [==============================] - 7s 660us/step - loss: 0.2633 - accuracy: 0.8860 - val_loss: 0.4991 - val_accuracy: 0.8140\n",
      "Epoch 100/100\n",
      "10000/10000 [==============================] - 7s 685us/step - loss: 0.2668 - accuracy: 0.8870 - val_loss: 0.4900 - val_accuracy: 0.8150\n"
     ]
    }
   ],
   "source": [
    "#history = model.fit([inputs_train, queries_train], answers_train, batch_size=32, epochs=100, validation_data=([inputs_test, queries_test], answers_test))\n",
    "history = model.fit([inputs_train, queries_train], answers_train, batch_size=32, epochs=100, validation_data=([inputs_test, queries_test], answers_test))"
   ]
  },
  {
   "cell_type": "code",
   "execution_count": 66,
   "metadata": {},
   "outputs": [],
   "source": []
  },
  {
   "cell_type": "code",
   "execution_count": 69,
   "metadata": {},
   "outputs": [
    {
     "name": "stdout",
     "output_type": "stream",
     "text": [
      "dict_keys(['val_loss', 'val_accuracy', 'loss', 'accuracy'])\n"
     ]
    },
    {
     "data": {
      "image/png": "[encoded data removed]",
      "text/plain": [
       "<Figure size 432x288 with 1 Axes>"
      ]
     },
     "metadata": {
      "needs_background": "light"
     },
     "output_type": "display_data"
    }
   ],
   "source": [
    "import matplotlib.pyplot as plt\n",
    "%matplotlib inline\n",
    "print(history.history.keys())\n",
    "# summarize history for accuracy\n",
    "plt.plot(history.history['accuracy'])\n",
    "plt.plot(history.history['val_accuracy'])\n",
    "plt.title('model accuracy')\n",
    "plt.ylabel('accuracy')\n",
    "plt.xlabel('epoch')\n",
    "plt.legend(['train', 'test'], loc='upper left')\n",
    "plt.show()"
   ]
  },
  {
   "cell_type": "code",
   "execution_count": 70,
   "metadata": {},
   "outputs": [],
   "source": [
    "model.save('mybrandnewmodel.h5')"
   ]
  },
  {
   "cell_type": "code",
   "execution_count": 71,
   "metadata": {},
   "outputs": [],
   "source": [
    "pred_result = model.predict(([inputs_test, queries_test]))"
   ]
  },
  {
   "cell_type": "code",
   "execution_count": 72,
   "metadata": {},
   "outputs": [
    {
     "data": {
      "text/plain": [
       "(1000, 38)"
      ]
     },
     "execution_count": 72,
     "metadata": {},
     "output_type": "execute_result"
    }
   ],
   "source": [
    "pred_result.shape"
   ]
  },
  {
   "cell_type": "code",
   "execution_count": 73,
   "metadata": {},
   "outputs": [
    {
     "data": {
      "text/plain": [
       "array([2.7614725e-12, 2.3202365e-12, 3.2541704e-12, 3.0887532e-12,\n",
       "       4.0994014e-12, 2.4114955e-12, 2.5425228e-12, 2.3164955e-12,\n",
       "       2.5370875e-12, 3.5268208e-12, 3.3300574e-12, 2.3435065e-12,\n",
       "       3.2333574e-12, 3.0584099e-12, 2.1303790e-12, 3.2292649e-12,\n",
       "       2.8092108e-12, 4.1594644e-12, 2.4275922e-12, 2.9781060e-12,\n",
       "       2.7997747e-12, 2.2223618e-12, 2.3088907e-12, 3.3373313e-12,\n",
       "       3.0313811e-12, 2.8326803e-12, 2.2156153e-12, 3.3610439e-12,\n",
       "       8.6337054e-01, 3.1478477e-12, 3.7097500e-12, 3.0745408e-12,\n",
       "       2.6740515e-12, 3.0878225e-12, 1.3662946e-01, 2.2973815e-12,\n",
       "       2.9453083e-12, 3.3977452e-12], dtype=float32)"
      ]
     },
     "execution_count": 73,
     "metadata": {},
     "output_type": "execute_result"
    }
   ],
   "source": [
    "pred_result[0]"
   ]
  },
  {
   "cell_type": "code",
   "execution_count": 74,
   "metadata": {},
   "outputs": [],
   "source": [
    "index_word = {index: word for word, index in tokenizer.word_index.items()}"
   ]
  },
  {
   "cell_type": "code",
   "execution_count": 75,
   "metadata": {},
   "outputs": [
    {
     "data": {
      "text/plain": [
       "['no',\n",
       " 'no',\n",
       " 'yes',\n",
       " 'yes',\n",
       " 'no',\n",
       " 'no',\n",
       " 'no',\n",
       " 'yes',\n",
       " 'no',\n",
       " 'yes',\n",
       " 'yes',\n",
       " 'no',\n",
       " 'yes',\n",
       " 'yes',\n",
       " 'yes',\n",
       " 'yes',\n",
       " 'yes',\n",
       " 'no',\n",
       " 'no',\n",
       " 'no',\n",
       " 'yes',\n",
       " 'no',\n",
       " 'yes',\n",
       " 'no',\n",
       " 'no',\n",
       " 'yes',\n",
       " 'yes',\n",
       " 'no',\n",
       " 'no',\n",
       " 'yes',\n",
       " 'yes',\n",
       " 'no',\n",
       " 'no',\n",
       " 'no',\n",
       " 'yes',\n",
       " 'no',\n",
       " 'yes',\n",
       " 'yes',\n",
       " 'yes',\n",
       " 'no',\n",
       " 'yes',\n",
       " 'no',\n",
       " 'no',\n",
       " 'no',\n",
       " 'yes',\n",
       " 'yes',\n",
       " 'yes',\n",
       " 'no',\n",
       " 'yes',\n",
       " 'yes',\n",
       " 'yes',\n",
       " 'no',\n",
       " 'yes',\n",
       " 'yes',\n",
       " 'no',\n",
       " 'no',\n",
       " 'no',\n",
       " 'yes',\n",
       " 'no',\n",
       " 'yes',\n",
       " 'no',\n",
       " 'no',\n",
       " 'yes',\n",
       " 'yes',\n",
       " 'yes',\n",
       " 'yes',\n",
       " 'yes',\n",
       " 'yes',\n",
       " 'yes',\n",
       " 'no',\n",
       " 'no',\n",
       " 'yes',\n",
       " 'no',\n",
       " 'yes',\n",
       " 'yes',\n",
       " 'yes',\n",
       " 'yes',\n",
       " 'yes',\n",
       " 'no',\n",
       " 'yes',\n",
       " 'yes',\n",
       " 'no',\n",
       " 'yes',\n",
       " 'yes',\n",
       " 'no',\n",
       " 'no',\n",
       " 'yes',\n",
       " 'no',\n",
       " 'no',\n",
       " 'yes',\n",
       " 'yes',\n",
       " 'no',\n",
       " 'no',\n",
       " 'no',\n",
       " 'yes',\n",
       " 'yes',\n",
       " 'yes',\n",
       " 'yes',\n",
       " 'yes',\n",
       " 'no',\n",
       " 'no',\n",
       " 'no',\n",
       " 'yes',\n",
       " 'no',\n",
       " 'no',\n",
       " 'no',\n",
       " 'no',\n",
       " 'no',\n",
       " 'no',\n",
       " 'no',\n",
       " 'no',\n",
       " 'no',\n",
       " 'no',\n",
       " 'yes',\n",
       " 'yes',\n",
       " 'no',\n",
       " 'yes',\n",
       " 'yes',\n",
       " 'yes',\n",
       " 'yes',\n",
       " 'no',\n",
       " 'yes',\n",
       " 'yes',\n",
       " 'no',\n",
       " 'yes',\n",
       " 'no',\n",
       " 'yes',\n",
       " 'yes',\n",
       " 'no',\n",
       " 'no',\n",
       " 'no',\n",
       " 'yes',\n",
       " 'yes',\n",
       " 'yes',\n",
       " 'no',\n",
       " 'no',\n",
       " 'no',\n",
       " 'no',\n",
       " 'no',\n",
       " 'no',\n",
       " 'no',\n",
       " 'yes',\n",
       " 'no',\n",
       " 'yes',\n",
       " 'yes',\n",
       " 'yes',\n",
       " 'no',\n",
       " 'yes',\n",
       " 'no',\n",
       " 'no',\n",
       " 'yes',\n",
       " 'yes',\n",
       " 'no',\n",
       " 'yes',\n",
       " 'no',\n",
       " 'no',\n",
       " 'yes',\n",
       " 'no',\n",
       " 'no',\n",
       " 'yes',\n",
       " 'yes',\n",
       " 'yes',\n",
       " 'yes',\n",
       " 'yes',\n",
       " 'yes',\n",
       " 'no',\n",
       " 'yes',\n",
       " 'no',\n",
       " 'yes',\n",
       " 'no',\n",
       " 'yes',\n",
       " 'no',\n",
       " 'no',\n",
       " 'no',\n",
       " 'yes',\n",
       " 'yes',\n",
       " 'yes',\n",
       " 'yes',\n",
       " 'no',\n",
       " 'no',\n",
       " 'yes',\n",
       " 'yes',\n",
       " 'yes',\n",
       " 'yes',\n",
       " 'no',\n",
       " 'yes',\n",
       " 'yes',\n",
       " 'yes',\n",
       " 'yes',\n",
       " 'no',\n",
       " 'yes',\n",
       " 'no',\n",
       " 'no',\n",
       " 'no',\n",
       " 'no',\n",
       " 'yes',\n",
       " 'yes',\n",
       " 'no',\n",
       " 'no',\n",
       " 'yes',\n",
       " 'yes',\n",
       " 'yes',\n",
       " 'no',\n",
       " 'yes',\n",
       " 'no',\n",
       " 'yes',\n",
       " 'yes',\n",
       " 'yes',\n",
       " 'no',\n",
       " 'yes',\n",
       " 'yes',\n",
       " 'yes',\n",
       " 'no',\n",
       " 'yes',\n",
       " 'no',\n",
       " 'no',\n",
       " 'yes',\n",
       " 'no',\n",
       " 'no',\n",
       " 'yes',\n",
       " 'yes',\n",
       " 'yes',\n",
       " 'yes',\n",
       " 'yes',\n",
       " 'no',\n",
       " 'yes',\n",
       " 'yes',\n",
       " 'no',\n",
       " 'yes',\n",
       " 'no',\n",
       " 'no',\n",
       " 'yes',\n",
       " 'no',\n",
       " 'yes',\n",
       " 'yes',\n",
       " 'yes',\n",
       " 'no',\n",
       " 'yes',\n",
       " 'no',\n",
       " 'yes',\n",
       " 'no',\n",
       " 'no',\n",
       " 'yes',\n",
       " 'no',\n",
       " 'no',\n",
       " 'yes',\n",
       " 'yes',\n",
       " 'yes',\n",
       " 'no',\n",
       " 'no',\n",
       " 'yes',\n",
       " 'yes',\n",
       " 'no',\n",
       " 'yes',\n",
       " 'yes',\n",
       " 'yes',\n",
       " 'no',\n",
       " 'yes',\n",
       " 'no',\n",
       " 'no',\n",
       " 'no',\n",
       " 'yes',\n",
       " 'yes',\n",
       " 'no',\n",
       " 'no',\n",
       " 'yes',\n",
       " 'yes',\n",
       " 'no',\n",
       " 'yes',\n",
       " 'yes',\n",
       " 'yes',\n",
       " 'yes',\n",
       " 'yes',\n",
       " 'yes',\n",
       " 'yes',\n",
       " 'yes',\n",
       " 'yes',\n",
       " 'yes',\n",
       " 'no',\n",
       " 'no',\n",
       " 'yes',\n",
       " 'no',\n",
       " 'yes',\n",
       " 'no',\n",
       " 'yes',\n",
       " 'yes',\n",
       " 'yes',\n",
       " 'no',\n",
       " 'yes',\n",
       " 'no',\n",
       " 'yes',\n",
       " 'no',\n",
       " 'yes',\n",
       " 'no',\n",
       " 'no',\n",
       " 'no',\n",
       " 'yes',\n",
       " 'yes',\n",
       " 'no',\n",
       " 'yes',\n",
       " 'yes',\n",
       " 'no',\n",
       " 'yes',\n",
       " 'yes',\n",
       " 'no',\n",
       " 'yes',\n",
       " 'no',\n",
       " 'yes',\n",
       " 'no',\n",
       " 'no',\n",
       " 'yes',\n",
       " 'yes',\n",
       " 'yes',\n",
       " 'no',\n",
       " 'yes',\n",
       " 'no',\n",
       " 'yes',\n",
       " 'yes',\n",
       " 'no',\n",
       " 'yes',\n",
       " 'yes',\n",
       " 'yes',\n",
       " 'no',\n",
       " 'yes',\n",
       " 'no',\n",
       " 'no',\n",
       " 'no',\n",
       " 'no',\n",
       " 'no',\n",
       " 'no',\n",
       " 'yes',\n",
       " 'no',\n",
       " 'yes',\n",
       " 'no',\n",
       " 'yes',\n",
       " 'no',\n",
       " 'yes',\n",
       " 'no',\n",
       " 'no',\n",
       " 'yes',\n",
       " 'no',\n",
       " 'no',\n",
       " 'yes',\n",
       " 'yes',\n",
       " 'yes',\n",
       " 'no',\n",
       " 'no',\n",
       " 'yes',\n",
       " 'yes',\n",
       " 'no',\n",
       " 'yes',\n",
       " 'yes',\n",
       " 'yes',\n",
       " 'yes',\n",
       " 'yes',\n",
       " 'yes',\n",
       " 'yes',\n",
       " 'yes',\n",
       " 'no',\n",
       " 'yes',\n",
       " 'yes',\n",
       " 'no',\n",
       " 'no',\n",
       " 'yes',\n",
       " 'no',\n",
       " 'no',\n",
       " 'no',\n",
       " 'yes',\n",
       " 'no',\n",
       " 'no',\n",
       " 'no',\n",
       " 'no',\n",
       " 'yes',\n",
       " 'no',\n",
       " 'no',\n",
       " 'no',\n",
       " 'yes',\n",
       " 'no',\n",
       " 'yes',\n",
       " 'yes',\n",
       " 'yes',\n",
       " 'yes',\n",
       " 'no',\n",
       " 'yes',\n",
       " 'yes',\n",
       " 'no',\n",
       " 'yes',\n",
       " 'no',\n",
       " 'yes',\n",
       " 'no',\n",
       " 'no',\n",
       " 'no',\n",
       " 'no',\n",
       " 'no',\n",
       " 'yes',\n",
       " 'no',\n",
       " 'yes',\n",
       " 'no',\n",
       " 'yes',\n",
       " 'yes',\n",
       " 'yes',\n",
       " 'yes',\n",
       " 'yes',\n",
       " 'yes',\n",
       " 'no',\n",
       " 'yes',\n",
       " 'yes',\n",
       " 'yes',\n",
       " 'no',\n",
       " 'no',\n",
       " 'yes',\n",
       " 'yes',\n",
       " 'no',\n",
       " 'no',\n",
       " 'yes',\n",
       " 'no',\n",
       " 'no',\n",
       " 'yes',\n",
       " 'no',\n",
       " 'yes',\n",
       " 'yes',\n",
       " 'no',\n",
       " 'yes',\n",
       " 'no',\n",
       " 'yes',\n",
       " 'no',\n",
       " 'no',\n",
       " 'no',\n",
       " 'no',\n",
       " 'no',\n",
       " 'no',\n",
       " 'yes',\n",
       " 'yes',\n",
       " 'yes',\n",
       " 'yes',\n",
       " 'yes',\n",
       " 'yes',\n",
       " 'yes',\n",
       " 'yes',\n",
       " 'yes',\n",
       " 'yes',\n",
       " 'no',\n",
       " 'yes',\n",
       " 'no',\n",
       " 'yes',\n",
       " 'no',\n",
       " 'no',\n",
       " 'no',\n",
       " 'yes',\n",
       " 'no',\n",
       " 'yes',\n",
       " 'no',\n",
       " 'no',\n",
       " 'yes',\n",
       " 'yes',\n",
       " 'no',\n",
       " 'yes',\n",
       " 'no',\n",
       " 'yes',\n",
       " 'yes',\n",
       " 'no',\n",
       " 'no',\n",
       " 'yes',\n",
       " 'no',\n",
       " 'yes',\n",
       " 'yes',\n",
       " 'yes',\n",
       " 'yes',\n",
       " 'no',\n",
       " 'yes',\n",
       " 'yes',\n",
       " 'no',\n",
       " 'yes',\n",
       " 'yes',\n",
       " 'yes',\n",
       " 'yes',\n",
       " 'yes',\n",
       " 'no',\n",
       " 'yes',\n",
       " 'no',\n",
       " 'yes',\n",
       " 'no',\n",
       " 'yes',\n",
       " 'no',\n",
       " 'yes',\n",
       " 'yes',\n",
       " 'yes',\n",
       " 'yes',\n",
       " 'yes',\n",
       " 'yes',\n",
       " 'yes',\n",
       " 'no',\n",
       " 'yes',\n",
       " 'yes',\n",
       " 'yes',\n",
       " 'no',\n",
       " 'yes',\n",
       " 'yes',\n",
       " 'yes',\n",
       " 'no',\n",
       " 'no',\n",
       " 'yes',\n",
       " 'yes',\n",
       " 'yes',\n",
       " 'yes',\n",
       " 'yes',\n",
       " 'no',\n",
       " 'no',\n",
       " 'yes',\n",
       " 'yes',\n",
       " 'no',\n",
       " 'no',\n",
       " 'no',\n",
       " 'yes',\n",
       " 'no',\n",
       " 'yes',\n",
       " 'no',\n",
       " 'yes',\n",
       " 'no',\n",
       " 'yes',\n",
       " 'no',\n",
       " 'no',\n",
       " 'no',\n",
       " 'yes',\n",
       " 'yes',\n",
       " 'no',\n",
       " 'yes',\n",
       " 'no',\n",
       " 'yes',\n",
       " 'no',\n",
       " 'no',\n",
       " 'no',\n",
       " 'yes',\n",
       " 'yes',\n",
       " 'yes',\n",
       " 'no',\n",
       " 'yes',\n",
       " 'yes',\n",
       " 'yes',\n",
       " 'yes',\n",
       " 'no',\n",
       " 'no',\n",
       " 'yes',\n",
       " 'yes',\n",
       " 'yes',\n",
       " 'no',\n",
       " 'yes',\n",
       " 'yes',\n",
       " 'yes',\n",
       " 'yes',\n",
       " 'yes',\n",
       " 'yes',\n",
       " 'yes',\n",
       " 'yes',\n",
       " 'no',\n",
       " 'no',\n",
       " 'no',\n",
       " 'no',\n",
       " 'yes',\n",
       " 'yes',\n",
       " 'no',\n",
       " 'no',\n",
       " 'no',\n",
       " 'yes',\n",
       " 'yes',\n",
       " 'yes',\n",
       " 'no',\n",
       " 'yes',\n",
       " 'no',\n",
       " 'yes',\n",
       " 'no',\n",
       " 'yes',\n",
       " 'yes',\n",
       " 'no',\n",
       " 'yes',\n",
       " 'yes',\n",
       " 'yes',\n",
       " 'yes',\n",
       " 'yes',\n",
       " 'no',\n",
       " 'no',\n",
       " 'no',\n",
       " 'yes',\n",
       " 'yes',\n",
       " 'no',\n",
       " 'yes',\n",
       " 'no',\n",
       " 'no',\n",
       " 'yes',\n",
       " 'yes',\n",
       " 'yes',\n",
       " 'yes',\n",
       " 'yes',\n",
       " 'yes',\n",
       " 'no',\n",
       " 'yes',\n",
       " 'no',\n",
       " 'yes',\n",
       " 'no',\n",
       " 'no',\n",
       " 'yes',\n",
       " 'no',\n",
       " 'yes',\n",
       " 'no',\n",
       " 'yes',\n",
       " 'yes',\n",
       " 'yes',\n",
       " 'no',\n",
       " 'yes',\n",
       " 'yes',\n",
       " 'yes',\n",
       " 'yes',\n",
       " 'yes',\n",
       " 'no',\n",
       " 'no',\n",
       " 'no',\n",
       " 'yes',\n",
       " 'no',\n",
       " 'yes',\n",
       " 'no',\n",
       " 'no',\n",
       " 'yes',\n",
       " 'no',\n",
       " 'yes',\n",
       " 'yes',\n",
       " 'yes',\n",
       " 'yes',\n",
       " 'yes',\n",
       " 'no',\n",
       " 'yes',\n",
       " 'no',\n",
       " 'no',\n",
       " 'yes',\n",
       " 'no',\n",
       " 'no',\n",
       " 'yes',\n",
       " 'no',\n",
       " 'yes',\n",
       " 'yes',\n",
       " 'yes',\n",
       " 'yes',\n",
       " 'yes',\n",
       " 'no',\n",
       " 'yes',\n",
       " 'no',\n",
       " 'yes',\n",
       " 'no',\n",
       " 'yes',\n",
       " 'no',\n",
       " 'no',\n",
       " 'yes',\n",
       " 'yes',\n",
       " 'yes',\n",
       " 'yes',\n",
       " 'yes',\n",
       " 'no',\n",
       " 'yes',\n",
       " 'yes',\n",
       " 'yes',\n",
       " 'yes',\n",
       " 'no',\n",
       " 'yes',\n",
       " 'yes',\n",
       " 'yes',\n",
       " 'yes',\n",
       " 'yes',\n",
       " 'yes',\n",
       " 'no',\n",
       " 'no',\n",
       " 'yes',\n",
       " 'no',\n",
       " 'no',\n",
       " 'no',\n",
       " 'no',\n",
       " 'no',\n",
       " 'yes',\n",
       " 'no',\n",
       " 'yes',\n",
       " 'no',\n",
       " 'no',\n",
       " 'no',\n",
       " 'yes',\n",
       " 'yes',\n",
       " 'no',\n",
       " 'no',\n",
       " 'yes',\n",
       " 'yes',\n",
       " 'yes',\n",
       " 'no',\n",
       " 'yes',\n",
       " 'no',\n",
       " 'no',\n",
       " 'no',\n",
       " 'yes',\n",
       " 'no',\n",
       " 'no',\n",
       " 'yes',\n",
       " 'yes',\n",
       " 'yes',\n",
       " 'no',\n",
       " 'yes',\n",
       " 'no',\n",
       " 'yes',\n",
       " 'no',\n",
       " 'yes',\n",
       " 'no',\n",
       " 'no',\n",
       " 'yes',\n",
       " 'yes',\n",
       " 'yes',\n",
       " 'yes',\n",
       " 'yes',\n",
       " 'yes',\n",
       " 'yes',\n",
       " 'yes',\n",
       " 'no',\n",
       " 'yes',\n",
       " 'yes',\n",
       " 'yes',\n",
       " 'yes',\n",
       " 'yes',\n",
       " 'yes',\n",
       " 'yes',\n",
       " 'no',\n",
       " 'no',\n",
       " 'yes',\n",
       " 'yes',\n",
       " 'yes',\n",
       " 'yes',\n",
       " 'yes',\n",
       " 'yes',\n",
       " 'yes',\n",
       " 'yes',\n",
       " 'yes',\n",
       " 'no',\n",
       " 'yes',\n",
       " 'yes',\n",
       " 'no',\n",
       " 'no',\n",
       " 'no',\n",
       " 'no',\n",
       " 'no',\n",
       " 'yes',\n",
       " 'no',\n",
       " 'yes',\n",
       " 'no',\n",
       " 'yes',\n",
       " 'yes',\n",
       " 'yes',\n",
       " 'yes',\n",
       " 'yes',\n",
       " 'yes',\n",
       " 'yes',\n",
       " 'no',\n",
       " 'yes',\n",
       " 'yes',\n",
       " 'no',\n",
       " 'yes',\n",
       " 'yes',\n",
       " 'no',\n",
       " 'yes',\n",
       " 'yes',\n",
       " 'no',\n",
       " 'no',\n",
       " 'yes',\n",
       " 'no',\n",
       " 'no',\n",
       " 'no',\n",
       " 'yes',\n",
       " 'yes',\n",
       " 'no',\n",
       " 'no',\n",
       " 'no',\n",
       " 'yes',\n",
       " 'yes',\n",
       " 'no',\n",
       " 'no',\n",
       " 'yes',\n",
       " 'yes',\n",
       " 'yes',\n",
       " 'no',\n",
       " 'no',\n",
       " 'no',\n",
       " 'yes',\n",
       " 'no',\n",
       " 'yes',\n",
       " 'yes',\n",
       " 'yes',\n",
       " 'no',\n",
       " 'no',\n",
       " 'no',\n",
       " 'yes',\n",
       " 'no',\n",
       " 'no',\n",
       " 'no',\n",
       " 'yes',\n",
       " 'yes',\n",
       " 'yes',\n",
       " 'yes',\n",
       " 'no',\n",
       " 'yes',\n",
       " 'yes',\n",
       " 'yes',\n",
       " 'no',\n",
       " 'no',\n",
       " 'no',\n",
       " 'yes',\n",
       " 'yes',\n",
       " 'yes',\n",
       " 'no',\n",
       " 'yes',\n",
       " 'yes',\n",
       " 'yes',\n",
       " 'yes',\n",
       " 'yes',\n",
       " 'no',\n",
       " 'no',\n",
       " 'yes',\n",
       " 'yes',\n",
       " 'yes',\n",
       " 'no',\n",
       " 'no',\n",
       " 'yes',\n",
       " 'yes',\n",
       " 'no',\n",
       " 'yes',\n",
       " 'no',\n",
       " 'yes',\n",
       " 'yes',\n",
       " 'yes',\n",
       " 'yes',\n",
       " 'no',\n",
       " 'yes',\n",
       " 'no',\n",
       " 'yes',\n",
       " 'no',\n",
       " 'no',\n",
       " 'no',\n",
       " 'yes',\n",
       " 'no',\n",
       " 'no',\n",
       " 'no',\n",
       " 'yes',\n",
       " 'no',\n",
       " 'no',\n",
       " 'yes',\n",
       " 'yes',\n",
       " 'no',\n",
       " 'yes',\n",
       " 'no',\n",
       " 'yes',\n",
       " 'no',\n",
       " 'yes',\n",
       " 'yes',\n",
       " 'no',\n",
       " 'no',\n",
       " 'no',\n",
       " 'no',\n",
       " 'no',\n",
       " 'yes',\n",
       " 'no',\n",
       " 'yes',\n",
       " 'no',\n",
       " 'yes',\n",
       " 'yes',\n",
       " 'no',\n",
       " 'yes',\n",
       " 'no',\n",
       " 'yes',\n",
       " 'yes',\n",
       " 'yes',\n",
       " 'yes',\n",
       " 'yes',\n",
       " 'no',\n",
       " 'yes',\n",
       " 'no',\n",
       " 'no',\n",
       " 'yes',\n",
       " 'no',\n",
       " 'yes',\n",
       " 'no',\n",
       " 'no',\n",
       " 'no',\n",
       " 'yes',\n",
       " 'yes',\n",
       " 'yes',\n",
       " 'no',\n",
       " 'no',\n",
       " 'yes',\n",
       " 'yes',\n",
       " 'no',\n",
       " 'no',\n",
       " 'yes',\n",
       " 'yes',\n",
       " 'yes',\n",
       " 'no',\n",
       " 'no',\n",
       " 'yes',\n",
       " 'yes',\n",
       " 'no',\n",
       " 'no',\n",
       " 'yes',\n",
       " 'yes',\n",
       " 'yes',\n",
       " 'yes',\n",
       " 'yes',\n",
       " 'no',\n",
       " 'no',\n",
       " 'no',\n",
       " 'no',\n",
       " 'yes',\n",
       " 'no',\n",
       " 'no',\n",
       " 'yes',\n",
       " 'yes',\n",
       " 'yes',\n",
       " 'yes',\n",
       " 'yes',\n",
       " 'yes',\n",
       " 'no',\n",
       " 'yes',\n",
       " 'yes',\n",
       " 'yes',\n",
       " 'yes',\n",
       " 'no',\n",
       " 'no',\n",
       " 'no',\n",
       " 'yes',\n",
       " 'yes',\n",
       " 'yes',\n",
       " 'yes',\n",
       " 'no',\n",
       " 'yes',\n",
       " 'no',\n",
       " 'yes',\n",
       " 'yes',\n",
       " 'no',\n",
       " 'no',\n",
       " 'yes',\n",
       " 'no',\n",
       " 'yes',\n",
       " 'no',\n",
       " 'yes',\n",
       " 'no',\n",
       " 'yes',\n",
       " 'yes',\n",
       " 'yes',\n",
       " 'no',\n",
       " 'yes',\n",
       " 'no',\n",
       " 'yes',\n",
       " 'no',\n",
       " 'yes',\n",
       " 'yes',\n",
       " 'yes',\n",
       " 'yes',\n",
       " 'yes',\n",
       " 'yes',\n",
       " 'no',\n",
       " 'yes',\n",
       " 'no',\n",
       " 'yes',\n",
       " 'yes',\n",
       " 'yes',\n",
       " 'yes',\n",
       " 'no',\n",
       " 'yes',\n",
       " 'no',\n",
       " 'yes',\n",
       " 'yes',\n",
       " 'yes',\n",
       " 'no',\n",
       " 'yes',\n",
       " 'no',\n",
       " 'yes',\n",
       " 'yes',\n",
       " 'no',\n",
       " 'yes',\n",
       " 'yes',\n",
       " 'no',\n",
       " 'no',\n",
       " 'no',\n",
       " 'no',\n",
       " 'yes',\n",
       " 'no',\n",
       " 'yes',\n",
       " 'yes',\n",
       " 'yes',\n",
       " 'no',\n",
       " 'yes',\n",
       " 'yes',\n",
       " 'no',\n",
       " 'no',\n",
       " 'yes',\n",
       " 'no',\n",
       " 'no',\n",
       " 'no',\n",
       " 'no',\n",
       " 'yes',\n",
       " 'yes']"
      ]
     },
     "execution_count": 75,
     "metadata": {},
     "output_type": "execute_result"
    }
   ],
   "source": [
    "predictions = np.argmax(pred_result, axis=1)\n",
    "pred_answers = [index_word[pred] for pred in predictions]\n",
    "pred_answers"
   ]
  },
  {
   "cell_type": "markdown",
   "metadata": {},
   "source": [
    "## Test with a run time question."
   ]
  },
  {
   "cell_type": "code",
   "execution_count": 76,
   "metadata": {},
   "outputs": [],
   "source": [
    "my_story = \"John left the kitchen . Sandra dropped the football in the garden .\""
   ]
  },
  {
   "cell_type": "code",
   "execution_count": 77,
   "metadata": {},
   "outputs": [
    {
     "data": {
      "text/plain": [
       "['John',\n",
       " 'left',\n",
       " 'the',\n",
       " 'kitchen',\n",
       " '.',\n",
       " 'Sandra',\n",
       " 'dropped',\n",
       " 'the',\n",
       " 'football',\n",
       " 'in',\n",
       " 'the',\n",
       " 'garden',\n",
       " '.']"
      ]
     },
     "execution_count": 77,
     "metadata": {},
     "output_type": "execute_result"
    }
   ],
   "source": [
    "my_story.split()"
   ]
  },
  {
   "cell_type": "code",
   "execution_count": 78,
   "metadata": {},
   "outputs": [],
   "source": [
    "my_question = \"Is the football in the garden ?\""
   ]
  },
  {
   "cell_type": "code",
   "execution_count": 79,
   "metadata": {},
   "outputs": [
    {
     "data": {
      "text/plain": [
       "['Is', 'the', 'football', 'in', 'the', 'garden', '?']"
      ]
     },
     "execution_count": 79,
     "metadata": {},
     "output_type": "execute_result"
    }
   ],
   "source": [
    "my_question.split()"
   ]
  },
  {
   "cell_type": "code",
   "execution_count": 80,
   "metadata": {},
   "outputs": [],
   "source": [
    "# The answer should be 'yes'.\n",
    "mydata = [(my_story.split(), my_question.split(), 'yes')]"
   ]
  },
  {
   "cell_type": "code",
   "execution_count": 81,
   "metadata": {},
   "outputs": [],
   "source": [
    "my_story, my_ques, my_ans = vectorize_stories(mydata)"
   ]
  },
  {
   "cell_type": "code",
   "execution_count": 82,
   "metadata": {},
   "outputs": [],
   "source": [
    "pred_result = model.predict([my_story, my_ques])"
   ]
  },
  {
   "cell_type": "code",
   "execution_count": 83,
   "metadata": {},
   "outputs": [],
   "source": [
    "val_max = np.argmax(pred_result[0])"
   ]
  },
  {
   "cell_type": "code",
   "execution_count": 84,
   "metadata": {},
   "outputs": [],
   "source": [
    "# Get the answer corresponding to the highest predict probabilty.\n",
    "for key, val in tokenizer.word_index.items():\n",
    "    if val == val_max:\n",
    "        k = key"
   ]
  },
  {
   "cell_type": "code",
   "execution_count": 85,
   "metadata": {},
   "outputs": [
    {
     "data": {
      "text/plain": [
       "'yes'"
      ]
     },
     "execution_count": 85,
     "metadata": {},
     "output_type": "execute_result"
    }
   ],
   "source": [
    "k"
   ]
  },
  {
   "cell_type": "code",
   "execution_count": 86,
   "metadata": {},
   "outputs": [
    {
     "data": {
      "text/plain": [
       "0.9988254"
      ]
     },
     "execution_count": 86,
     "metadata": {},
     "output_type": "execute_result"
    }
   ],
   "source": [
    "# Find out what's the highest predict probability.\n",
    "pred_result[0][val_max]"
   ]
  },
  {
   "cell_type": "code",
   "execution_count": null,
   "metadata": {},
   "outputs": [],
   "source": []
  }
 ],
 "metadata": {
  "kernelspec": {
   "display_name": "Python 3",
   "language": "python",
   "name": "python3"
  },
  "language_info": {
   "codemirror_mode": {
    "name": "ipython",
    "version": 3
   },
   "file_extension": ".py",
   "mimetype": "text/x-python",
   "name": "python",
   "nbconvert_exporter": "python",
   "pygments_lexer": "ipython3",
   "version": "3.6.10"
  }
 },
 "nbformat": 4,
 "nbformat_minor": 2
}
