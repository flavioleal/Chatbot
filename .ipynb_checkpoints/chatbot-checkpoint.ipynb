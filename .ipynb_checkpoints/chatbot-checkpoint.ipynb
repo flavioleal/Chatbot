{
 "cells": [
  {
   "cell_type": "code",
   "execution_count": 193,
   "metadata": {},
   "outputs": [],
   "source": [
    "import pickle\n",
    "import json\n",
    "import random\n",
    "import tensorflow\n",
    "import tflearn\n",
    "import numpy\n",
    "import nltk"
   ]
  },
  {
   "cell_type": "code",
   "execution_count": 195,
   "metadata": {},
   "outputs": [],
   "source": [
    "with open(\"intents.json\", 'rb') as file:\n",
    "    data = json.load(file)"
   ]
  },
  {
   "cell_type": "code",
   "execution_count": 196,
   "metadata": {},
   "outputs": [
    {
     "data": {
      "text/plain": [
       "{'intents': [{'tag': 'greeting',\n",
       "   'patterns': ['Hi there',\n",
       "    'Hello',\n",
       "    'Hola',\n",
       "    'Hey',\n",
       "    'Hi',\n",
       "    'Hello',\n",
       "    'Good morning',\n",
       "    'Good Evening'],\n",
       "   'responses': ['Hello, Welcome to Our IT Chatbot',\n",
       "    'Good to see you, Welcome to our IT Chatbot',\n",
       "    'Hi there, how can I help?'],\n",
       "   'context': ['']},\n",
       "  {'tag': 'goodbye',\n",
       "   'patterns': ['Bye',\n",
       "    'See you later',\n",
       "    'Goodbye',\n",
       "    'Nice chatting to you, bye',\n",
       "    'Till next time',\n",
       "    'Bye Chatbot'],\n",
       "   'responses': ['See you!',\n",
       "    'Have a nice day',\n",
       "    'Bye! Come back again soon.',\n",
       "    'Happy to help'],\n",
       "   'context': ['']},\n",
       "  {'tag': 'thanks',\n",
       "   'patterns': ['Thanks',\n",
       "    'Thank you',\n",
       "    \"That's helpful\",\n",
       "    'Awesome, thanks',\n",
       "    'Thanks for helping me'],\n",
       "   'responses': ['Happy to help! Any other issues?',\n",
       "    'Any time! Any other issues I can help with?',\n",
       "    'My pleasure! Any other Issues I can help with?'],\n",
       "   'context': ['']},\n",
       "  {'tag': 'noanswer',\n",
       "   'patterns': ['q', 'random'],\n",
       "   'responses': [\"Sorry, can't understand you\",\n",
       "    'Please give me more info',\n",
       "    'Not sure I understand'],\n",
       "   'context': ['']},\n",
       "  {'tag': 'options',\n",
       "   'patterns': ['How you could help me?',\n",
       "    'What you can do?',\n",
       "    'What help you provide?',\n",
       "    'How you can be helpful?',\n",
       "    'What support is offered',\n",
       "    'What services do you provide?',\n",
       "    'What can you help me with'],\n",
       "   'responses': ['I can guide you through\\n 1)Password Reset\\n2) Trouble-Shooting issues\\n3) Virus Issues\\n4) Printing Issues\\n5) many more IT issues',\n",
       "    'Offering support for \\n1) Password Reset\\n2) Trouble-Shooting issues\\n3) Virus Issues\\n4) Printer issues\\n5) Other IT tasks'],\n",
       "   'context': ['']},\n",
       "  {'tag': 'Password Reset',\n",
       "   'patterns': ['How to reset my password?',\n",
       "    'I’m unable to log in!',\n",
       "    'My Password is Lost, need to Reset.',\n",
       "    'Open password reset module',\n",
       "    'Reset my password',\n",
       "    'Forgot password',\n",
       "    'how do i reset my password?',\n",
       "    'Hi,I have problem with my password',\n",
       "    'Problem with Login ID'],\n",
       "   'responses': ['Confirm your email address'],\n",
       "   'context_set': ['email']},\n",
       "  {'tag': 'E-mail id',\n",
       "   'patterns': ['@gmail.com', '@outlook.com', '@yahoo.com', '@hotmail.in'],\n",
       "   'responses': ['The reset pin has been sent on your registered mobile number'],\n",
       "   'context_filter': ['email']},\n",
       "  {'tag': 'Blue Sreen issue',\n",
       "   'patterns': ['I’ve got the dreaded blue screen of death!',\n",
       "    'blue screen issue'],\n",
       "   'responses': ['Simply rebooting can fix the blue screen of death (or STOP error, as it is otherwise known).',\n",
       "    'rebooting can help the issue'],\n",
       "   'context': ['']},\n",
       "  {'tag': 'Deleted files',\n",
       "   'patterns': ['I deleted some important files!',\n",
       "    'Find my deleted files',\n",
       "    'removed neccesary files',\n",
       "    'I by mistake deleted my folders',\n",
       "    'Can you help me with deleted files issue',\n",
       "    'I am unable to find my files'],\n",
       "   'responses': ['The first step is to check the recycle bin. If that fails, you can contact your IT Support partner.'],\n",
       "   'context': ['search_pharmacy_by_name']},\n",
       "  {'tag': 'Unsaved Document',\n",
       "   'patterns': ['I just closed my document without saving!',\n",
       "    'Unsaved Document',\n",
       "    'Forgot to save my work'],\n",
       "   'responses': ['However, all your work is not definitely lost. If you have Auto-Recover options enabled in Microsoft Office, then there are some easy steps to recover your work.\\nIf not, you can also search for Word backup files by clicking “open”, “computer” and then browsing to the folder where the file was last saved.\\nYou may also be able to find your file by performing a search on your computer for temporary files with a .tmp file extension or a ~ prefix.'],\n",
       "   'context': ['']},\n",
       "  {'tag': 'Slow Computer',\n",
       "   'patterns': ['Slow Computer',\n",
       "    'My computer is running too slowly!',\n",
       "    'Computer is not fast'],\n",
       "   'responses': ['Here are my 10 quick tips for things you can do to speed up your PC\\n1. Cut down on start-up items\\n2. Uninstall programs you no longer use\\n3. Clean up your hard drive\\n4. Clean your browser\\n5. Scan for and remove malware\\n6. Adjust for better performance\\n7. Defrag your hard drive\\n8. Add more RAM.\\n9. Upgrade to an SSD drive\\n10. Don’t shut down, use Hibernate '],\n",
       "   'context': ['']},\n",
       "  {'tag': 'Unexpected Shut Down',\n",
       "   'patterns': ['My computer just shut down unexpectedly!',\n",
       "    'computer shut down unexpected',\n",
       "    'Computer keeps shutting down',\n",
       "    'computer shutdown',\n",
       "    'pc shutdown'],\n",
       "   'responses': ['This could be related to overheating. Check your computer for dust, and make sure it is in a cool and ventilated place. If this is not the issue, then it is likely a virus problem. Disconnect the PC from any networks and call your IT Support experts!'],\n",
       "   'context': ['search_hospital_by_type']},\n",
       "  {'tag': 'Printing issues',\n",
       "   'patterns': ['I can’t print anything!',\n",
       "    'Printing issue',\n",
       "    'My printer isn’t printing',\n",
       "    'Can’t seem to use my department’s printer'],\n",
       "   'responses': ['\\nIf its not an obvious issue, there may be a connection problem-the printer is probably not connected to the network properly, so call your IT Support helpdesk for help.'],\n",
       "   'context': ['']},\n",
       "  {'tag': 'Vague',\n",
       "   'patterns': ['Nothing works',\n",
       "    'I have issues',\n",
       "    'I need Help',\n",
       "    'I have problems'],\n",
       "   'responses': ['Hey, I cant seems that you have not listed you Issue here.\\n I can help you out with the following issues: \\n 1)Password Reset\\n 2) Trouble-Shooting issues\\n 3) Virus Issues \\n 4)Printing Issues and many more IT issues'],\n",
       "   'context': ['']},\n",
       "  {'tag': 'Virus',\n",
       "   'patterns': ['I have virus in my laptop',\n",
       "    'Virus issues',\n",
       "    'Computer has a virus',\n",
       "    'I have problems'],\n",
       "   'responses': ['A detailed step by step guide to remove the virus from the computer has been provided on the following link: \\nhttps://www.easeus.com/file-recovery/remove-virus-without-antivirus.html \\nand\\nhttps://www.pcworld.com/article/243818/how-to-remove-malware-from-your-windows-pc.html\\nIf the issues are still there, consult the IT team'],\n",
       "   'context': ['']},\n",
       "  {'tag': 'Mouse',\n",
       "   'patterns': ['My Mouse is not working',\n",
       "    'The mouse is dead',\n",
       "    'Bluetooth mouse not working',\n",
       "    'Mouse issues',\n",
       "    'trackpad not working',\n",
       "    'I need help with trackpad problems'],\n",
       "   'responses': ['a) If you encounter a mouse problem, you should first try these options:\\n1) If it is a first-time issue, restarting your PC can resolve the issue instantly.\\n2) Confirm that the mouse or the wireless adaptor is firmly connected to the PC.\\n3) You may also try to unplug the mouse cable or the wireless adaptor and reconnect using a different port.\\n4)Check the mouse and the ports for damages and even try the mouse on a different computer.\\n4 If none of these solves the problem, you can now proceed to other solutions.\\nb) Troubleshoot Hardware and Devices\\nc) Updating Incompatible Mouse Drivers\\nd) Roll Back or Reinstall Mouse Drivers\\ne) Deactivate Enhanced Pointer Precision\\nf) Adjusting the Mouse Sensitivity\\ng) Configure Touchpad Delay\\nh) Disable Touchpad'],\n",
       "   'context': ['']},\n",
       "  {'tag': 'USB',\n",
       "   'patterns': ['My computer does not recognise my USB device!',\n",
       "    'Okay so i need help with pendrive',\n",
       "    'USB issues',\n",
       "    'Pendrive issues',\n",
       "    'pendrive is not detected'],\n",
       "   'responses': ['First things to check are:\\n1) Does the device work in a different USB port on the machine?\\n2) Are other devices recognised in that port?\\n3) Does the device work on another user’s machine?\\n If you have tried these troubleshooting methods and still no luck, then your IT support help-desk can proceed with some more in-depth troubleshooting.'],\n",
       "   'context': ['']},\n",
       "  {'tag': 'Slow Internet',\n",
       "   'patterns': ['My internet is really slow!',\n",
       "    'slow internet',\n",
       "    'Cannot connect to Internet',\n",
       "    'Internet is not fast',\n",
       "    'My Wi-Fi keeps dropping'],\n",
       "   'responses': [\"If you're connecting wirelessly, then the location may be the problem. The signal is not necessarily strong in all corners of the building. Similarly, you could just be too far away. If this is not the issue, then spyware or viruses are a likely cause.\"],\n",
       "   'context': ['']}]}"
      ]
     },
     "execution_count": 196,
     "metadata": {},
     "output_type": "execute_result"
    }
   ],
   "source": [
    "data"
   ]
  },
  {
   "cell_type": "code",
   "execution_count": 215,
   "metadata": {},
   "outputs": [],
   "source": [
    "words = []\n",
    "labels = []\n",
    "docs_x = []\n",
    "docs_y = []\n",
    "\n",
    "for intent in data[\"intents\"]:\n",
    "    for pattern in intent[\"patterns\"]:\n",
    "        wrds = nltk.word_tokenize(pattern)\n",
    "        words.extend(wrds)\n",
    "        docs_x.append(wrds)\n",
    "        docs_y.append(intent[\"tag\"])\n",
    "\n",
    "    if intent[\"tag\"] not in labels:\n",
    "        labels.append(intent[\"tag\"])"
   ]
  },
  {
   "cell_type": "code",
   "execution_count": 216,
   "metadata": {},
   "outputs": [],
   "source": [
    "from nltk.stem.lancaster import LancasterStemmer\n",
    "stemmer = LancasterStemmer()"
   ]
  },
  {
   "cell_type": "code",
   "execution_count": 217,
   "metadata": {},
   "outputs": [],
   "source": [
    "words = [stemmer.stem(w.lower()) for w in words if w != \"?\"]\n",
    "words = sorted(list(set(words)))"
   ]
  },
  {
   "cell_type": "code",
   "execution_count": 218,
   "metadata": {},
   "outputs": [],
   "source": [
    "labels = sorted(labels)"
   ]
  },
  {
   "cell_type": "code",
   "execution_count": 219,
   "metadata": {},
   "outputs": [],
   "source": [
    "training = []\n",
    "output = []"
   ]
  },
  {
   "cell_type": "code",
   "execution_count": 220,
   "metadata": {},
   "outputs": [],
   "source": [
    "out_empty = [0 for _ in range(len(labels))]\n",
    "for x, doc in enumerate(docs_x):\n",
    "        bag = []\n",
    "\n",
    "        wrds = [stemmer.stem(w.lower()) for w in doc]\n",
    "\n",
    "        for w in words:\n",
    "            if w in wrds:\n",
    "                bag.append(1)\n",
    "            else:\n",
    "                bag.append(0)\n",
    "\n",
    "        output_row = out_empty[:]\n",
    "        output_row[labels.index(docs_y[x])] = 1\n",
    "\n",
    "        training.append(bag)\n",
    "        output.append(output_row)"
   ]
  },
  {
   "cell_type": "code",
   "execution_count": 222,
   "metadata": {},
   "outputs": [],
   "source": [
    "training = numpy.array(training)\n",
    "output = numpy.array(output)"
   ]
  },
  {
   "cell_type": "code",
   "execution_count": 298,
   "metadata": {},
   "outputs": [],
   "source": [
    "tensorflow.reset_default_graph()\n",
    "\n",
    "net = tflearn.input_data(shape=[None, len(training[0])])\n",
    "net = tflearn.embedding(net, input_dim=10000, output_dim=128)\n",
    "#net = tflearn.lstm(net, 128, dropout=0.8, return_seq=True)\n",
    "#net = tflearn.lstm(net, 128, dropout=0.8, return_seq=True)\n",
    "#net = tflearn.lstm(net, 128, dropout=0.8, return_seq=True)\n",
    "net = tflearn.lstm(net, 128, dropout=0.8)\n",
    "net = tflearn.fully_connected(net, len(output[0]), activation=\"softmax\")\n",
    "net = tflearn.regression(net, optimizer='adam', learning_rate=0.001,\n",
    "                         loss='categorical_crossentropy')"
   ]
  },
  {
   "cell_type": "code",
   "execution_count": null,
   "metadata": {},
   "outputs": [
    {
     "name": "stdout",
     "output_type": "stream",
     "text": [
      "---------------------------------\n",
      "Run id: intents\n",
      "Log directory: /tmp/tflearn_logs/\n",
      "INFO:tensorflow:Summary name Accuracy/ (raw) is illegal; using Accuracy/__raw_ instead.\n",
      "---------------------------------\n",
      "Training samples: 88\n",
      "Validation samples: 0\n",
      "--\n"
     ]
    }
   ],
   "source": [
    "model = tflearn.DNN(net, tensorboard_verbose=0)\n",
    "history = model.fit(training, output, n_epoch=300, batch_size=32, show_metric=True, run_id='intents')\n",
    "#model.save(\"model.tflearn\")"
   ]
  },
  {
   "cell_type": "code",
   "execution_count": 285,
   "metadata": {},
   "outputs": [],
   "source": [
    "history"
   ]
  },
  {
   "cell_type": "code",
   "execution_count": 286,
   "metadata": {},
   "outputs": [],
   "source": [
    "def bag_of_words(s, words):\n",
    "    bag = [0 for _ in range(len(words))]\n",
    "\n",
    "    s_words = nltk.word_tokenize(s)\n",
    "    s_words = [stemmer.stem(word.lower()) for word in s_words]\n",
    "\n",
    "    for se in s_words:\n",
    "        for i, w in enumerate(words):\n",
    "            if w == se:\n",
    "                bag[i] = 1\n",
    "\n",
    "    return numpy.array(bag)"
   ]
  },
  {
   "cell_type": "code",
   "execution_count": 287,
   "metadata": {},
   "outputs": [],
   "source": [
    "def chat():\n",
    "    print(\"Comece a conversar com o bot (digite quit para parar)!\")\n",
    "    while True:\n",
    "        inp = input(\"You: \")\n",
    "        if inp.lower() == \"quit\":\n",
    "            break\n",
    "\n",
    "        results = model.predict([bag_of_words(inp, words)])[0]\n",
    "        results_index = numpy.argmax(results)\n",
    "        tag = labels[results_index]\n",
    "\n",
    "        if results[results_index] > 0.7:\n",
    "            for tg in data[\"intents\"]:\n",
    "                if tg[\"tag\"] == tag:\n",
    "                    responses = tg[\"responses\"]\n",
    "\n",
    "            print(random.choice(responses))\n",
    "        else:\n",
    "            print(\"I didn't get that, try again. \")"
   ]
  },
  {
   "cell_type": "code",
   "execution_count": 288,
   "metadata": {},
   "outputs": [
    {
     "name": "stdout",
     "output_type": "stream",
     "text": [
      "Comece a conversar com o bot (digite quit para parar)!\n",
      "You: USB\n",
      "I didn't get that, try again. \n",
      "You: Password Reset\n",
      "I didn't get that, try again. \n",
      "You: Reset Password\n",
      "I didn't get that, try again. \n",
      "You: Hi\n",
      "Hi there, how can I help?\n",
      "You: Password Reset\n",
      "I didn't get that, try again. \n",
      "You: How to reset my password?\n",
      "Confirm your email address\n",
      "You: flasile@gmail.com\n",
      "The reset pin has been sent on your registered mobile number\n",
      "You: Vague\n",
      "See you!\n",
      "You: Nothing works\n",
      "Hey, I cant seems that you have not listed you Issue here.\n",
      " I can help you out with the following issues: \n",
      " 1)Password Reset\n",
      " 2) Trouble-Shooting issues\n",
      " 3) Virus Issues \n",
      " 4)Printing Issues and many more IT issues\n",
      "You: Virus issues\n",
      "A detailed step by step guide to remove the virus from the computer has been provided on the following link: \n",
      "https://www.easeus.com/file-recovery/remove-virus-without-antivirus.html \n",
      "and\n",
      "https://www.pcworld.com/article/243818/how-to-remove-malware-from-your-windows-pc.html\n",
      "If the issues are still there, consult the IT team\n"
     ]
    },
    {
     "ename": "KeyboardInterrupt",
     "evalue": "Interrupted by user",
     "output_type": "error",
     "traceback": [
      "\u001b[1;31m---------------------------------------------------------------------------\u001b[0m",
      "\u001b[1;31mKeyboardInterrupt\u001b[0m                         Traceback (most recent call last)",
      "\u001b[1;32m<ipython-input-288-e57ee30c65ef>\u001b[0m in \u001b[0;36m<module>\u001b[1;34m\u001b[0m\n\u001b[1;32m----> 1\u001b[1;33m \u001b[0mchat\u001b[0m\u001b[1;33m(\u001b[0m\u001b[1;33m)\u001b[0m\u001b[1;33m\u001b[0m\u001b[1;33m\u001b[0m\u001b[0m\n\u001b[0m",
      "\u001b[1;32m<ipython-input-287-ff99fcb974ff>\u001b[0m in \u001b[0;36mchat\u001b[1;34m()\u001b[0m\n\u001b[0;32m      2\u001b[0m     \u001b[0mprint\u001b[0m\u001b[1;33m(\u001b[0m\u001b[1;34m\"Comece a conversar com o bot (digite quit para parar)!\"\u001b[0m\u001b[1;33m)\u001b[0m\u001b[1;33m\u001b[0m\u001b[1;33m\u001b[0m\u001b[0m\n\u001b[0;32m      3\u001b[0m     \u001b[1;32mwhile\u001b[0m \u001b[1;32mTrue\u001b[0m\u001b[1;33m:\u001b[0m\u001b[1;33m\u001b[0m\u001b[1;33m\u001b[0m\u001b[0m\n\u001b[1;32m----> 4\u001b[1;33m         \u001b[0minp\u001b[0m \u001b[1;33m=\u001b[0m \u001b[0minput\u001b[0m\u001b[1;33m(\u001b[0m\u001b[1;34m\"You: \"\u001b[0m\u001b[1;33m)\u001b[0m\u001b[1;33m\u001b[0m\u001b[1;33m\u001b[0m\u001b[0m\n\u001b[0m\u001b[0;32m      5\u001b[0m         \u001b[1;32mif\u001b[0m \u001b[0minp\u001b[0m\u001b[1;33m.\u001b[0m\u001b[0mlower\u001b[0m\u001b[1;33m(\u001b[0m\u001b[1;33m)\u001b[0m \u001b[1;33m==\u001b[0m \u001b[1;34m\"quit\"\u001b[0m\u001b[1;33m:\u001b[0m\u001b[1;33m\u001b[0m\u001b[1;33m\u001b[0m\u001b[0m\n\u001b[0;32m      6\u001b[0m             \u001b[1;32mbreak\u001b[0m\u001b[1;33m\u001b[0m\u001b[1;33m\u001b[0m\u001b[0m\n",
      "\u001b[1;32m~\\anaconda3\\envs\\igti\\lib\\site-packages\\ipykernel\\kernelbase.py\u001b[0m in \u001b[0;36mraw_input\u001b[1;34m(self, prompt)\u001b[0m\n\u001b[0;32m    861\u001b[0m             \u001b[0mself\u001b[0m\u001b[1;33m.\u001b[0m\u001b[0m_parent_ident\u001b[0m\u001b[1;33m,\u001b[0m\u001b[1;33m\u001b[0m\u001b[1;33m\u001b[0m\u001b[0m\n\u001b[0;32m    862\u001b[0m             \u001b[0mself\u001b[0m\u001b[1;33m.\u001b[0m\u001b[0m_parent_header\u001b[0m\u001b[1;33m,\u001b[0m\u001b[1;33m\u001b[0m\u001b[1;33m\u001b[0m\u001b[0m\n\u001b[1;32m--> 863\u001b[1;33m             \u001b[0mpassword\u001b[0m\u001b[1;33m=\u001b[0m\u001b[1;32mFalse\u001b[0m\u001b[1;33m,\u001b[0m\u001b[1;33m\u001b[0m\u001b[1;33m\u001b[0m\u001b[0m\n\u001b[0m\u001b[0;32m    864\u001b[0m         )\n\u001b[0;32m    865\u001b[0m \u001b[1;33m\u001b[0m\u001b[0m\n",
      "\u001b[1;32m~\\anaconda3\\envs\\igti\\lib\\site-packages\\ipykernel\\kernelbase.py\u001b[0m in \u001b[0;36m_input_request\u001b[1;34m(self, prompt, ident, parent, password)\u001b[0m\n\u001b[0;32m    902\u001b[0m             \u001b[1;32mexcept\u001b[0m \u001b[0mKeyboardInterrupt\u001b[0m\u001b[1;33m:\u001b[0m\u001b[1;33m\u001b[0m\u001b[1;33m\u001b[0m\u001b[0m\n\u001b[0;32m    903\u001b[0m                 \u001b[1;31m# re-raise KeyboardInterrupt, to truncate traceback\u001b[0m\u001b[1;33m\u001b[0m\u001b[1;33m\u001b[0m\u001b[1;33m\u001b[0m\u001b[0m\n\u001b[1;32m--> 904\u001b[1;33m                 \u001b[1;32mraise\u001b[0m \u001b[0mKeyboardInterrupt\u001b[0m\u001b[1;33m(\u001b[0m\u001b[1;34m\"Interrupted by user\"\u001b[0m\u001b[1;33m)\u001b[0m \u001b[1;32mfrom\u001b[0m \u001b[1;32mNone\u001b[0m\u001b[1;33m\u001b[0m\u001b[1;33m\u001b[0m\u001b[0m\n\u001b[0m\u001b[0;32m    905\u001b[0m             \u001b[1;32mexcept\u001b[0m \u001b[0mException\u001b[0m \u001b[1;32mas\u001b[0m \u001b[0me\u001b[0m\u001b[1;33m:\u001b[0m\u001b[1;33m\u001b[0m\u001b[1;33m\u001b[0m\u001b[0m\n\u001b[0;32m    906\u001b[0m                 \u001b[0mself\u001b[0m\u001b[1;33m.\u001b[0m\u001b[0mlog\u001b[0m\u001b[1;33m.\u001b[0m\u001b[0mwarning\u001b[0m\u001b[1;33m(\u001b[0m\u001b[1;34m\"Invalid Message:\"\u001b[0m\u001b[1;33m,\u001b[0m \u001b[0mexc_info\u001b[0m\u001b[1;33m=\u001b[0m\u001b[1;32mTrue\u001b[0m\u001b[1;33m)\u001b[0m\u001b[1;33m\u001b[0m\u001b[1;33m\u001b[0m\u001b[0m\n",
      "\u001b[1;31mKeyboardInterrupt\u001b[0m: Interrupted by user"
     ]
    }
   ],
   "source": [
    "chat()"
   ]
  },
  {
   "cell_type": "code",
   "execution_count": null,
   "metadata": {},
   "outputs": [],
   "source": []
  }
 ],
 "metadata": {
  "kernelspec": {
   "display_name": "Python 3",
   "language": "python",
   "name": "python3"
  },
  "language_info": {
   "codemirror_mode": {
    "name": "ipython",
    "version": 3
   },
   "file_extension": ".py",
   "mimetype": "text/x-python",
   "name": "python",
   "nbconvert_exporter": "python",
   "pygments_lexer": "ipython3",
   "version": "3.6.10"
  }
 },
 "nbformat": 4,
 "nbformat_minor": 4
}
